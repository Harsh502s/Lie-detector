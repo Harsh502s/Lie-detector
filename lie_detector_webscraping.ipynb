{
  "cells": [
    {
      "cell_type": "markdown",
      "metadata": {
        "colab_type": "text",
        "id": "view-in-github"
      },
      "source": [
        "<a href=\"https://colab.research.google.com/github/Anushree-B/Lie-detector/blob/main/lie_detector_webscraping.ipynb\" target=\"_parent\"><img src=\"https://colab.research.google.com/assets/colab-badge.svg\" alt=\"Open In Colab\"/></a>"
      ]
    },
    {
      "cell_type": "markdown",
      "metadata": {
        "id": "BTtpw1NRKOfF"
      },
      "source": [
        "# Lie detector using neural network\n",
        "\n",
        "## Step 1 : web scraping\n",
        "We will be scraping the data from \"politifact.com\" website\n",
        "\n",
        "The website contains data of different US polititcians and we will be scraping data of each politician one by one, the data of a politician is spread out on many different pages."
      ]
    },
    {
      "cell_type": "markdown",
      "metadata": {
        "id": "5DkbxfkMwmCl"
      },
      "source": [
        "## Importing libraries"
      ]
    },
    {
      "cell_type": "code",
      "execution_count": 1,
      "metadata": {
        "id": "jHRXfDcCKGAP"
      },
      "outputs": [],
      "source": [
        "from requests import get\n",
        "from bs4 import BeautifulSoup\n",
        "import pandas as pd\n",
        "import re\n",
        "from concurrent.futures import ThreadPoolExecutor, as_completed\n",
        "from tqdm import tqdm"
      ]
    },
    {
      "cell_type": "markdown",
      "metadata": {
        "id": "tJK0IKtbiVlJ"
      },
      "source": [
        "## Checking response of the url"
      ]
    },
    {
      "cell_type": "code",
      "execution_count": 2,
      "metadata": {
        "colab": {
          "base_uri": "https://localhost:8080/"
        },
        "id": "Ov0AEFxFy2F4",
        "outputId": "a1d63837-ca22-4864-df7a-6cff12b28e71"
      },
      "outputs": [
        {
          "name": "stdout",
          "output_type": "stream",
          "text": [
            "<Response [200]>\n"
          ]
        }
      ],
      "source": [
        "url = r\"https://www.politifact.com/factchecks/list/?ruling=mostly-true\"\n",
        "response = get(url)\n",
        "print(response)"
      ]
    },
    {
      "cell_type": "markdown",
      "metadata": {
        "id": "xQsEFrnYie8q"
      },
      "source": [
        "As the response of the URL is 200, therefore it indicates that we can perform scraping on the website"
      ]
    },
    {
      "cell_type": "markdown",
      "metadata": {
        "id": "j0YNlr12itaj"
      },
      "source": [
        "## Scraping the data accouding to truth meter categories\n",
        "\n",
        "Now in total, we have 6 differnet ruling categories, those are\n",
        "\n",
        "- true\n",
        "- mostly-true\n",
        "- half-true\n",
        "- barely-true\n",
        "- false\n",
        "- pants-fire\n",
        "\n",
        "For each category, 80 pages are scraped ie. 2400 statements, thus in total the dataset consists of 14400 statements."
      ]
    },
    {
      "cell_type": "code",
      "execution_count": 3,
      "metadata": {
        "colab": {
          "base_uri": "https://localhost:8080/",
          "height": 206
        },
        "id": "Y3t_J-dSHjcn",
        "outputId": "3ac780a0-799e-4ad6-c81d-64e3539808f4"
      },
      "outputs": [
        {
          "name": "stderr",
          "output_type": "stream",
          "text": [
            "480it [02:07,  3.75it/s]\n"
          ]
        },
        {
          "data": {
            "text/html": [
              "<div>\n",
              "<style scoped>\n",
              "    .dataframe tbody tr th:only-of-type {\n",
              "        vertical-align: middle;\n",
              "    }\n",
              "\n",
              "    .dataframe tbody tr th {\n",
              "        vertical-align: top;\n",
              "    }\n",
              "\n",
              "    .dataframe thead th {\n",
              "        text-align: right;\n",
              "    }\n",
              "</style>\n",
              "<table border=\"1\" class=\"dataframe\">\n",
              "  <thead>\n",
              "    <tr style=\"text-align: right;\">\n",
              "      <th></th>\n",
              "      <th>Politician</th>\n",
              "      <th>Quote</th>\n",
              "      <th>Image URL</th>\n",
              "    </tr>\n",
              "  </thead>\n",
              "  <tbody>\n",
              "    <tr>\n",
              "      <th>0</th>\n",
              "      <td>Melissa Agard</td>\n",
              "      <td>Potato chips, KitKat bars and Viagra are not t...</td>\n",
              "      <td>true</td>\n",
              "    </tr>\n",
              "    <tr>\n",
              "      <th>1</th>\n",
              "      <td>Melissa Agard</td>\n",
              "      <td>“Since 1981, the state Senate has only rejecte...</td>\n",
              "      <td>true</td>\n",
              "    </tr>\n",
              "    <tr>\n",
              "      <th>2</th>\n",
              "      <td>Instagram posts</td>\n",
              "      <td>“Lego donates model MRI kits to hospitals to h...</td>\n",
              "      <td>true</td>\n",
              "    </tr>\n",
              "    <tr>\n",
              "      <th>3</th>\n",
              "      <td>Brian Krassenstein</td>\n",
              "      <td>It has been U.S. policy “for at least 79 years...</td>\n",
              "      <td>true</td>\n",
              "    </tr>\n",
              "    <tr>\n",
              "      <th>4</th>\n",
              "      <td>Mike Oliverio</td>\n",
              "      <td>“A few years back,” Mitchell Stadium in Bluefi...</td>\n",
              "      <td>true</td>\n",
              "    </tr>\n",
              "  </tbody>\n",
              "</table>\n",
              "</div>"
            ],
            "text/plain": [
              "           Politician                                              Quote  \\\n",
              "0       Melissa Agard  Potato chips, KitKat bars and Viagra are not t...   \n",
              "1       Melissa Agard  “Since 1981, the state Senate has only rejecte...   \n",
              "2     Instagram posts  “Lego donates model MRI kits to hospitals to h...   \n",
              "3  Brian Krassenstein  It has been U.S. policy “for at least 79 years...   \n",
              "4       Mike Oliverio  “A few years back,” Mitchell Stadium in Bluefi...   \n",
              "\n",
              "  Image URL  \n",
              "0      true  \n",
              "1      true  \n",
              "2      true  \n",
              "3      true  \n",
              "4      true  "
            ]
          },
          "execution_count": 3,
          "metadata": {},
          "output_type": "execute_result"
        }
      ],
      "source": [
        "base_url = r\"https://www.politifact.com/factchecks/list/?page={}&ruling={}\"\n",
        "\n",
        "politicians = []\n",
        "quotes = []\n",
        "image_urls = []\n",
        "\n",
        "rulings = ['true', 'mostly-true', 'half-true', 'barely-true', 'false', 'pants-fire']\n",
        "\n",
        "def fetch_data(ruling, page):\n",
        "    url = base_url.format(page, ruling)\n",
        "    response = get(url)\n",
        "    soup = BeautifulSoup(response.content, \"html.parser\")\n",
        "    local_politicians = []\n",
        "    local_quotes = []\n",
        "    local_image_urls = []\n",
        "    \n",
        "    for article in soup.find_all(\"article\", class_=\"m-statement\"):\n",
        "        politician = article.find(\"a\").text.strip()\n",
        "        quote = article.find(\"div\", class_=\"m-statement__quote\").text.strip()\n",
        "        \n",
        "        local_politicians.append(politician)\n",
        "        local_quotes.append(quote)\n",
        "        local_image_urls.append(ruling)\n",
        "    \n",
        "    return local_politicians, local_quotes, local_image_urls\n",
        "\n",
        "with ThreadPoolExecutor(max_workers=4) as executor:\n",
        "    futures = []\n",
        "    for ruling in rulings:\n",
        "        for page in range(1, 81):\n",
        "            futures.append(executor.submit(fetch_data, ruling, page))\n",
        "    \n",
        "    for future in tqdm(as_completed(futures)):\n",
        "        try:\n",
        "            local_politicians, local_quotes, local_image_urls = future.result()\n",
        "            politicians.extend(local_politicians)\n",
        "            quotes.extend(local_quotes)\n",
        "            image_urls.extend(local_image_urls)\n",
        "        except Exception as e:\n",
        "            print(f\"An error occurred: {e}\")\n",
        "\n",
        "# Create a DataFrame\n",
        "df = pd.DataFrame({\n",
        "    \"Politician\": politicians,\n",
        "    \"Quote\": quotes,\n",
        "    \"Image URL\": image_urls\n",
        "})\n",
        "\n",
        "df.head()"
      ]
    },
    {
      "cell_type": "code",
      "execution_count": 4,
      "metadata": {
        "colab": {
          "base_uri": "https://localhost:8080/"
        },
        "id": "OcN-obQPFXI8",
        "outputId": "583e8031-2466-4228-99e1-f633d3f82cad"
      },
      "outputs": [
        {
          "data": {
            "text/plain": [
              "(14400, 3)"
            ]
          },
          "execution_count": 4,
          "metadata": {},
          "output_type": "execute_result"
        }
      ],
      "source": [
        "df.shape"
      ]
    },
    {
      "cell_type": "code",
      "execution_count": 5,
      "metadata": {
        "colab": {
          "base_uri": "https://localhost:8080/"
        },
        "id": "dN6JDhmhFY-n",
        "outputId": "051a0718-80a9-4099-8af3-d19e19b029b3"
      },
      "outputs": [
        {
          "data": {
            "text/plain": [
              "Image URL\n",
              "true           2400\n",
              "mostly-true    2400\n",
              "half-true      2400\n",
              "barely-true    2400\n",
              "false          2400\n",
              "pants-fire     2400\n",
              "Name: count, dtype: int64"
            ]
          },
          "execution_count": 5,
          "metadata": {},
          "output_type": "execute_result"
        }
      ],
      "source": [
        "df['Image URL'].value_counts()"
      ]
    },
    {
      "cell_type": "markdown",
      "metadata": {
        "id": "Va-O_B0fSZRv"
      },
      "source": [
        "## Removing the punctuations from the Quote"
      ]
    },
    {
      "cell_type": "code",
      "execution_count": 6,
      "metadata": {
        "id": "lWzPPwtlLoWw"
      },
      "outputs": [
        {
          "data": {
            "text/html": [
              "<div>\n",
              "<style scoped>\n",
              "    .dataframe tbody tr th:only-of-type {\n",
              "        vertical-align: middle;\n",
              "    }\n",
              "\n",
              "    .dataframe tbody tr th {\n",
              "        vertical-align: top;\n",
              "    }\n",
              "\n",
              "    .dataframe thead th {\n",
              "        text-align: right;\n",
              "    }\n",
              "</style>\n",
              "<table border=\"1\" class=\"dataframe\">\n",
              "  <thead>\n",
              "    <tr style=\"text-align: right;\">\n",
              "      <th></th>\n",
              "      <th>Politician</th>\n",
              "      <th>Quote</th>\n",
              "      <th>Image URL</th>\n",
              "    </tr>\n",
              "  </thead>\n",
              "  <tbody>\n",
              "    <tr>\n",
              "      <th>0</th>\n",
              "      <td>Melissa Agard</td>\n",
              "      <td>potato chips  kitkat bars and viagra are not t...</td>\n",
              "      <td>true</td>\n",
              "    </tr>\n",
              "    <tr>\n",
              "      <th>1</th>\n",
              "      <td>Melissa Agard</td>\n",
              "      <td>since       the state senate has only rejected...</td>\n",
              "      <td>true</td>\n",
              "    </tr>\n",
              "    <tr>\n",
              "      <th>2</th>\n",
              "      <td>Instagram posts</td>\n",
              "      <td>lego donates model mri kits to hospitals to he...</td>\n",
              "      <td>true</td>\n",
              "    </tr>\n",
              "    <tr>\n",
              "      <th>3</th>\n",
              "      <td>Brian Krassenstein</td>\n",
              "      <td>it has been u s  policy  for at least    years...</td>\n",
              "      <td>true</td>\n",
              "    </tr>\n",
              "    <tr>\n",
              "      <th>4</th>\n",
              "      <td>Mike Oliverio</td>\n",
              "      <td>a few years back   mitchell stadium in bluefie...</td>\n",
              "      <td>true</td>\n",
              "    </tr>\n",
              "  </tbody>\n",
              "</table>\n",
              "</div>"
            ],
            "text/plain": [
              "           Politician                                              Quote  \\\n",
              "0       Melissa Agard  potato chips  kitkat bars and viagra are not t...   \n",
              "1       Melissa Agard  since       the state senate has only rejected...   \n",
              "2     Instagram posts  lego donates model mri kits to hospitals to he...   \n",
              "3  Brian Krassenstein  it has been u s  policy  for at least    years...   \n",
              "4       Mike Oliverio  a few years back   mitchell stadium in bluefie...   \n",
              "\n",
              "  Image URL  \n",
              "0      true  \n",
              "1      true  \n",
              "2      true  \n",
              "3      true  \n",
              "4      true  "
            ]
          },
          "execution_count": 6,
          "metadata": {},
          "output_type": "execute_result"
        }
      ],
      "source": [
        "df[\"Quote\"] = df[\"Quote\"].apply(lambda x: re.sub('[^a-zA-Z]', ' ', x))\n",
        "df[\"Quote\"] = df[\"Quote\"].apply(lambda x: x.strip().lower())\n",
        "df.head()"
      ]
    },
    {
      "cell_type": "markdown",
      "metadata": {
        "id": "OkuoKJg5SUVT"
      },
      "source": [
        "## Saving the data into a csv file"
      ]
    },
    {
      "cell_type": "code",
      "execution_count": 7,
      "metadata": {
        "id": "BTdkkdFLo9xS"
      },
      "outputs": [],
      "source": [
        "df.to_csv('Data/politifact.csv',index=False)"
      ]
    }
  ],
  "metadata": {
    "colab": {
      "authorship_tag": "ABX9TyPioZl5lxUbVDxEGoSCEAfy",
      "include_colab_link": true,
      "provenance": []
    },
    "kernelspec": {
      "display_name": "Python 3",
      "name": "python3"
    },
    "language_info": {
      "codemirror_mode": {
        "name": "ipython",
        "version": 3
      },
      "file_extension": ".py",
      "mimetype": "text/x-python",
      "name": "python",
      "nbconvert_exporter": "python",
      "pygments_lexer": "ipython3",
      "version": "3.10.11"
    }
  },
  "nbformat": 4,
  "nbformat_minor": 0
}
