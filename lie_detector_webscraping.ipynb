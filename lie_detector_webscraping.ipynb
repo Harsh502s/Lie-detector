{
  "cells": [
    {
      "cell_type": "markdown",
      "metadata": {
        "colab_type": "text",
        "id": "view-in-github"
      },
      "source": [
        "<a href=\"https://colab.research.google.com/github/Anushree-B/Lie-detector/blob/main/lie_detector_webscraping.ipynb\" target=\"_parent\"><img src=\"https://colab.research.google.com/assets/colab-badge.svg\" alt=\"Open In Colab\"/></a>"
      ]
    },
    {
      "cell_type": "markdown",
      "metadata": {
        "id": "BTtpw1NRKOfF"
      },
      "source": [
        "# Lie detector using neural network\n",
        "\n",
        "## Step 1 : web scraping\n",
        "We will be scraping the data from \"politifact.com\" website\n",
        "\n",
        "The website contains data of different US polititcians and we will be scraping data of each politician one by one, the data of a politician is spread out on many different pages."
      ]
    },
    {
      "cell_type": "markdown",
      "metadata": {
        "id": "5DkbxfkMwmCl"
      },
      "source": [
        "## Importing libraries"
      ]
    },
    {
      "cell_type": "code",
      "execution_count": 11,
      "metadata": {
        "id": "jHRXfDcCKGAP"
      },
      "outputs": [],
      "source": [
        "from requests import get\n",
        "from bs4 import BeautifulSoup\n",
        "import pandas as pd\n",
        "import re\n",
        "from concurrent.futures import ThreadPoolExecutor, as_completed\n",
        "from tqdm import tqdm"
      ]
    },
    {
      "cell_type": "markdown",
      "metadata": {
        "id": "tJK0IKtbiVlJ"
      },
      "source": [
        "## Checking response of the url"
      ]
    },
    {
      "cell_type": "code",
      "execution_count": 12,
      "metadata": {
        "colab": {
          "base_uri": "https://localhost:8080/"
        },
        "id": "Ov0AEFxFy2F4",
        "outputId": "a1d63837-ca22-4864-df7a-6cff12b28e71"
      },
      "outputs": [
        {
          "name": "stdout",
          "output_type": "stream",
          "text": [
            "<Response [200]>\n"
          ]
        }
      ],
      "source": [
        "url = r\"https://www.politifact.com/factchecks/list/?ruling=mostly-true\"\n",
        "response = get(url)\n",
        "print(response)"
      ]
    },
    {
      "cell_type": "markdown",
      "metadata": {
        "id": "xQsEFrnYie8q"
      },
      "source": [
        "As the response of the URL is 200, therefore it indicates that we can perform scraping on the website"
      ]
    },
    {
      "cell_type": "markdown",
      "metadata": {
        "id": "j0YNlr12itaj"
      },
      "source": [
        "## Scraping the data accouding to truth meter categories\n",
        "\n",
        "Now in total, we have 6 differnet ruling categories, those are\n",
        "\n",
        "- true\n",
        "- mostly-true\n",
        "- half-true\n",
        "- barely-true\n",
        "- false\n",
        "- pants-fire\n",
        "\n",
        "For each category, 80 pages are scraped ie. 2400 statements, thus in total the dataset consists of 14400 statements."
      ]
    },
    {
      "cell_type": "code",
      "execution_count": 13,
      "metadata": {
        "colab": {
          "base_uri": "https://localhost:8080/",
          "height": 206
        },
        "id": "Y3t_J-dSHjcn",
        "outputId": "3ac780a0-799e-4ad6-c81d-64e3539808f4"
      },
      "outputs": [
        {
          "name": "stderr",
          "output_type": "stream",
          "text": [
            "480it [01:16,  6.24it/s]\n"
          ]
        },
        {
          "data": {
            "text/html": [
              "<div>\n",
              "<style scoped>\n",
              "    .dataframe tbody tr th:only-of-type {\n",
              "        vertical-align: middle;\n",
              "    }\n",
              "\n",
              "    .dataframe tbody tr th {\n",
              "        vertical-align: top;\n",
              "    }\n",
              "\n",
              "    .dataframe thead th {\n",
              "        text-align: right;\n",
              "    }\n",
              "</style>\n",
              "<table border=\"1\" class=\"dataframe\">\n",
              "  <thead>\n",
              "    <tr style=\"text-align: right;\">\n",
              "      <th></th>\n",
              "      <th>Politician</th>\n",
              "      <th>Quote</th>\n",
              "      <th>Image URL</th>\n",
              "    </tr>\n",
              "  </thead>\n",
              "  <tbody>\n",
              "    <tr>\n",
              "      <th>0</th>\n",
              "      <td>Kamala Harris</td>\n",
              "      <td>Black women in the U.S. are “three to four tim...</td>\n",
              "      <td>true</td>\n",
              "    </tr>\n",
              "    <tr>\n",
              "      <th>1</th>\n",
              "      <td>Byron Donalds</td>\n",
              "      <td>Kamala Harris \"co-sponsored, fully sponsored\" ...</td>\n",
              "      <td>true</td>\n",
              "    </tr>\n",
              "    <tr>\n",
              "      <th>2</th>\n",
              "      <td>David Crowley</td>\n",
              "      <td>“Under (the Biden) administration we have witn...</td>\n",
              "      <td>true</td>\n",
              "    </tr>\n",
              "    <tr>\n",
              "      <th>3</th>\n",
              "      <td>Tony Evers</td>\n",
              "      <td>Wisconsin had a “record-breaking year” for tou...</td>\n",
              "      <td>true</td>\n",
              "    </tr>\n",
              "    <tr>\n",
              "      <th>4</th>\n",
              "      <td>Social Media</td>\n",
              "      <td>Under federal law, former President Donald Tru...</td>\n",
              "      <td>true</td>\n",
              "    </tr>\n",
              "  </tbody>\n",
              "</table>\n",
              "</div>"
            ],
            "text/plain": [
              "      Politician                                              Quote Image URL\n",
              "0  Kamala Harris  Black women in the U.S. are “three to four tim...      true\n",
              "1  Byron Donalds  Kamala Harris \"co-sponsored, fully sponsored\" ...      true\n",
              "2  David Crowley  “Under (the Biden) administration we have witn...      true\n",
              "3     Tony Evers  Wisconsin had a “record-breaking year” for tou...      true\n",
              "4   Social Media  Under federal law, former President Donald Tru...      true"
            ]
          },
          "execution_count": 13,
          "metadata": {},
          "output_type": "execute_result"
        }
      ],
      "source": [
        "base_url = r\"https://www.politifact.com/factchecks/list/?page={}&ruling={}\"\n",
        "\n",
        "politicians = []\n",
        "quotes = []\n",
        "image_urls = []\n",
        "\n",
        "rulings = ['true', 'mostly-true', 'half-true', 'barely-true', 'false', 'pants-fire']\n",
        "\n",
        "def fetch_data(ruling, page):\n",
        "    url = base_url.format(page, ruling)\n",
        "    response = get(url)\n",
        "    soup = BeautifulSoup(response.content, \"html.parser\")\n",
        "    local_politicians = []\n",
        "    local_quotes = []\n",
        "    local_image_urls = []\n",
        "    \n",
        "    for article in soup.find_all(\"article\", class_=\"m-statement\"):\n",
        "        politician = article.find(\"a\").text.strip()\n",
        "        quote = article.find(\"div\", class_=\"m-statement__quote\").text.strip()\n",
        "        \n",
        "        local_politicians.append(politician)\n",
        "        local_quotes.append(quote)\n",
        "        local_image_urls.append(ruling)\n",
        "    \n",
        "    return local_politicians, local_quotes, local_image_urls\n",
        "\n",
        "with ThreadPoolExecutor() as executor:\n",
        "    futures = []\n",
        "    for ruling in rulings:\n",
        "        for page in range(1, 81):\n",
        "            futures.append(executor.submit(fetch_data, ruling, page))\n",
        "    \n",
        "    for future in tqdm(as_completed(futures)):\n",
        "        try:\n",
        "            local_politicians, local_quotes, local_image_urls = future.result()\n",
        "            politicians.extend(local_politicians)\n",
        "            quotes.extend(local_quotes)\n",
        "            image_urls.extend(local_image_urls)\n",
        "        except Exception as e:\n",
        "            print(f\"An error occurred: {e}\")\n",
        "\n",
        "# Create a DataFrame\n",
        "df = pd.DataFrame({\n",
        "    \"Politician\": politicians,\n",
        "    \"Quote\": quotes,\n",
        "    \"Image URL\": image_urls\n",
        "})\n",
        "\n",
        "df.head()"
      ]
    },
    {
      "cell_type": "code",
      "execution_count": 14,
      "metadata": {
        "colab": {
          "base_uri": "https://localhost:8080/"
        },
        "id": "OcN-obQPFXI8",
        "outputId": "583e8031-2466-4228-99e1-f633d3f82cad"
      },
      "outputs": [
        {
          "data": {
            "text/plain": [
              "(14400, 3)"
            ]
          },
          "execution_count": 14,
          "metadata": {},
          "output_type": "execute_result"
        }
      ],
      "source": [
        "df.shape"
      ]
    },
    {
      "cell_type": "code",
      "execution_count": 15,
      "metadata": {
        "colab": {
          "base_uri": "https://localhost:8080/"
        },
        "id": "dN6JDhmhFY-n",
        "outputId": "051a0718-80a9-4099-8af3-d19e19b029b3"
      },
      "outputs": [
        {
          "data": {
            "text/plain": [
              "Image URL\n",
              "true           2400\n",
              "mostly-true    2400\n",
              "half-true      2400\n",
              "barely-true    2400\n",
              "false          2400\n",
              "pants-fire     2400\n",
              "Name: count, dtype: int64"
            ]
          },
          "execution_count": 15,
          "metadata": {},
          "output_type": "execute_result"
        }
      ],
      "source": [
        "df['Image URL'].value_counts()"
      ]
    },
    {
      "cell_type": "markdown",
      "metadata": {
        "id": "Va-O_B0fSZRv"
      },
      "source": [
        "## Removing the punctuations from the Quote"
      ]
    },
    {
      "cell_type": "code",
      "execution_count": 16,
      "metadata": {
        "id": "lWzPPwtlLoWw"
      },
      "outputs": [
        {
          "data": {
            "text/html": [
              "<div>\n",
              "<style scoped>\n",
              "    .dataframe tbody tr th:only-of-type {\n",
              "        vertical-align: middle;\n",
              "    }\n",
              "\n",
              "    .dataframe tbody tr th {\n",
              "        vertical-align: top;\n",
              "    }\n",
              "\n",
              "    .dataframe thead th {\n",
              "        text-align: right;\n",
              "    }\n",
              "</style>\n",
              "<table border=\"1\" class=\"dataframe\">\n",
              "  <thead>\n",
              "    <tr style=\"text-align: right;\">\n",
              "      <th></th>\n",
              "      <th>Politician</th>\n",
              "      <th>Quote</th>\n",
              "      <th>Image URL</th>\n",
              "    </tr>\n",
              "  </thead>\n",
              "  <tbody>\n",
              "    <tr>\n",
              "      <th>0</th>\n",
              "      <td>Kamala Harris</td>\n",
              "      <td>black women in the u s  are  three to four tim...</td>\n",
              "      <td>true</td>\n",
              "    </tr>\n",
              "    <tr>\n",
              "      <th>1</th>\n",
              "      <td>Byron Donalds</td>\n",
              "      <td>kamala harris  co sponsored  fully sponsored  ...</td>\n",
              "      <td>true</td>\n",
              "    </tr>\n",
              "    <tr>\n",
              "      <th>2</th>\n",
              "      <td>David Crowley</td>\n",
              "      <td>under  the biden  administration we have witne...</td>\n",
              "      <td>true</td>\n",
              "    </tr>\n",
              "    <tr>\n",
              "      <th>3</th>\n",
              "      <td>Tony Evers</td>\n",
              "      <td>wisconsin had a  record breaking year  for tou...</td>\n",
              "      <td>true</td>\n",
              "    </tr>\n",
              "    <tr>\n",
              "      <th>4</th>\n",
              "      <td>Social Media</td>\n",
              "      <td>under federal law  former president donald tru...</td>\n",
              "      <td>true</td>\n",
              "    </tr>\n",
              "  </tbody>\n",
              "</table>\n",
              "</div>"
            ],
            "text/plain": [
              "      Politician                                              Quote Image URL\n",
              "0  Kamala Harris  black women in the u s  are  three to four tim...      true\n",
              "1  Byron Donalds  kamala harris  co sponsored  fully sponsored  ...      true\n",
              "2  David Crowley  under  the biden  administration we have witne...      true\n",
              "3     Tony Evers  wisconsin had a  record breaking year  for tou...      true\n",
              "4   Social Media  under federal law  former president donald tru...      true"
            ]
          },
          "execution_count": 16,
          "metadata": {},
          "output_type": "execute_result"
        }
      ],
      "source": [
        "df[\"Quote\"] = df[\"Quote\"].apply(lambda x: re.sub('[^a-zA-Z]', ' ', x))\n",
        "df[\"Quote\"] = df[\"Quote\"].apply(lambda x: x.strip().lower())\n",
        "df.head()"
      ]
    },
    {
      "cell_type": "markdown",
      "metadata": {
        "id": "OkuoKJg5SUVT"
      },
      "source": [
        "## Saving the data into a csv file"
      ]
    },
    {
      "cell_type": "code",
      "execution_count": 18,
      "metadata": {
        "id": "BTdkkdFLo9xS"
      },
      "outputs": [],
      "source": [
        "df.to_csv('Data/politifact.csv',index=False)\n"
      ]
    }
  ],
  "metadata": {
    "colab": {
      "authorship_tag": "ABX9TyPioZl5lxUbVDxEGoSCEAfy",
      "include_colab_link": true,
      "provenance": []
    },
    "kernelspec": {
      "display_name": "Python 3",
      "name": "python3"
    },
    "language_info": {
      "codemirror_mode": {
        "name": "ipython",
        "version": 3
      },
      "file_extension": ".py",
      "mimetype": "text/x-python",
      "name": "python",
      "nbconvert_exporter": "python",
      "pygments_lexer": "ipython3",
      "version": "3.10.11"
    }
  },
  "nbformat": 4,
  "nbformat_minor": 0
}
