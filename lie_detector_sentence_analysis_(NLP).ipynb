{
  "cells": [
    {
      "cell_type": "markdown",
      "metadata": {
        "colab_type": "text",
        "id": "view-in-github"
      },
      "source": [
        "<a href=\"https://colab.research.google.com/github/Anushree-B/Lie-detector/blob/main/lie_detector_sentence_analysis_(NLP).ipynb\" target=\"_parent\"><img src=\"https://colab.research.google.com/assets/colab-badge.svg\" alt=\"Open In Colab\"/></a>"
      ]
    },
    {
      "cell_type": "markdown",
      "metadata": {
        "id": "WhEvlFsLSy_Q"
      },
      "source": [
        "# Lie detector using neural network\n",
        "\n",
        "## Step 2 : Senetence Analysis\n",
        "\n",
        "Based on the analysis by Victor Palacios https://github.com/Victor-Palacios/Deception_Detection_Capstone, this notebook dives into analyzing sentences for our project on detecting deception in political speech. We'll dissect 14400 labeled quotes (true, false, etc.) to identify linguistic patterns that might differentiate truth from lies.\n",
        "\n",
        "Here's how we'll dissect these quotes:\n",
        "\n",
        "- **Word Breakdown**: We'll calculate the total number of words to understand the overall conciseness or complexity of statements.\n",
        "- **Part-of-Speech Distribution**: We'll analyze the frequency of verbs, adverbs, adjectives, and nouns. This can reveal patterns in how politicians express information (e.g., high noun count for factual claims, frequent adverbs for softening statements).\n",
        "- **Sentiment Analysis**: We'll determine the emotional tone (positive, negative, neutral) of each quote. This can highlight potential biases or manipulative language.\n",
        "- **Vocabulary Exploration**: We'll explore the specific words used, identifying keywords or phrases that might correlate with truthfulness.\n",
        "\n",
        "Thus, based on this analysis, aim is to create a dataset contating all the above factors. This will be done using Natural language processing."
      ]
    },
    {
      "cell_type": "markdown",
      "metadata": {
        "id": "wJ8rhy7lVdz5"
      },
      "source": [
        "## Importing libraries"
      ]
    },
    {
      "cell_type": "code",
      "execution_count": 1,
      "metadata": {
        "id": "s9K7DfhKSoX5"
      },
      "outputs": [],
      "source": [
        "import numpy as np\n",
        "import pandas as pd\n",
        "import re\n",
        "import nltk\n",
        "from tqdm import tqdm"
      ]
    },
    {
      "cell_type": "code",
      "execution_count": 2,
      "metadata": {
        "colab": {
          "base_uri": "https://localhost:8080/",
          "height": 206
        },
        "id": "KllIndVDV74A",
        "outputId": "573287c8-837f-4060-9034-fb7933391fdd"
      },
      "outputs": [
        {
          "data": {
            "text/html": [
              "<div>\n",
              "<style scoped>\n",
              "    .dataframe tbody tr th:only-of-type {\n",
              "        vertical-align: middle;\n",
              "    }\n",
              "\n",
              "    .dataframe tbody tr th {\n",
              "        vertical-align: top;\n",
              "    }\n",
              "\n",
              "    .dataframe thead th {\n",
              "        text-align: right;\n",
              "    }\n",
              "</style>\n",
              "<table border=\"1\" class=\"dataframe\">\n",
              "  <thead>\n",
              "    <tr style=\"text-align: right;\">\n",
              "      <th></th>\n",
              "      <th>Politician</th>\n",
              "      <th>Quote</th>\n",
              "      <th>Image URL</th>\n",
              "    </tr>\n",
              "  </thead>\n",
              "  <tbody>\n",
              "    <tr>\n",
              "      <th>0</th>\n",
              "      <td>Melissa Agard</td>\n",
              "      <td>potato chips  kitkat bars and viagra are not t...</td>\n",
              "      <td>true</td>\n",
              "    </tr>\n",
              "    <tr>\n",
              "      <th>1</th>\n",
              "      <td>Melissa Agard</td>\n",
              "      <td>since       the state senate has only rejected...</td>\n",
              "      <td>true</td>\n",
              "    </tr>\n",
              "    <tr>\n",
              "      <th>2</th>\n",
              "      <td>Instagram posts</td>\n",
              "      <td>lego donates model mri kits to hospitals to he...</td>\n",
              "      <td>true</td>\n",
              "    </tr>\n",
              "    <tr>\n",
              "      <th>3</th>\n",
              "      <td>Brian Krassenstein</td>\n",
              "      <td>it has been u s  policy  for at least    years...</td>\n",
              "      <td>true</td>\n",
              "    </tr>\n",
              "    <tr>\n",
              "      <th>4</th>\n",
              "      <td>Mike Oliverio</td>\n",
              "      <td>a few years back   mitchell stadium in bluefie...</td>\n",
              "      <td>true</td>\n",
              "    </tr>\n",
              "  </tbody>\n",
              "</table>\n",
              "</div>"
            ],
            "text/plain": [
              "           Politician                                              Quote  \\\n",
              "0       Melissa Agard  potato chips  kitkat bars and viagra are not t...   \n",
              "1       Melissa Agard  since       the state senate has only rejected...   \n",
              "2     Instagram posts  lego donates model mri kits to hospitals to he...   \n",
              "3  Brian Krassenstein  it has been u s  policy  for at least    years...   \n",
              "4       Mike Oliverio  a few years back   mitchell stadium in bluefie...   \n",
              "\n",
              "  Image URL  \n",
              "0      true  \n",
              "1      true  \n",
              "2      true  \n",
              "3      true  \n",
              "4      true  "
            ]
          },
          "execution_count": 2,
          "metadata": {},
          "output_type": "execute_result"
        }
      ],
      "source": [
        "df = pd.read_csv(\"Data/politifact.csv\")\n",
        "df.head()"
      ]
    },
    {
      "cell_type": "markdown",
      "metadata": {
        "id": "BpXibnCbX045"
      },
      "source": [
        "## adding character count, word count and word length of Quote"
      ]
    },
    {
      "cell_type": "code",
      "execution_count": 3,
      "metadata": {
        "colab": {
          "base_uri": "https://localhost:8080/"
        },
        "collapsed": true,
        "id": "kUW8PTZKXrNr",
        "outputId": "1f04ee22-0fb0-4d4f-9d4b-e49bc3eaf948"
      },
      "outputs": [],
      "source": [
        "df['char_count'] = np.zeros(14400)\n",
        "df['word_count'] = np.zeros(14400)\n",
        "df['word_length'] = np.zeros(14400)\n",
        "\n",
        "df['char_count'] = df['Quote'].apply(len)\n",
        "df['word_count'] = df['Quote'].apply(lambda x: len(x.split()))\n",
        "df['word_length'] = df['Quote'].apply(lambda x: np.mean([len(word) for word in x.split()]))"
      ]
    },
    {
      "cell_type": "markdown",
      "metadata": {
        "id": "YWg3cpYta9Hq"
      },
      "source": [
        "## FInding the number of adverbs, adjectives, nouns and verbs in Quote"
      ]
    },
    {
      "cell_type": "code",
      "execution_count": 5,
      "metadata": {
        "colab": {
          "base_uri": "https://localhost:8080/"
        },
        "id": "TIjoBzjHY9Ab",
        "outputId": "a65bdfbb-0d78-4e31-8f30-020f449e6818"
      },
      "outputs": [
        {
          "name": "stderr",
          "output_type": "stream",
          "text": [
            "[nltk_data] Downloading package averaged_perceptron_tagger to\n",
            "[nltk_data]     C:\\Users\\harsh\\AppData\\Roaming\\nltk_data...\n",
            "[nltk_data]   Package averaged_perceptron_tagger is already up-to-\n",
            "[nltk_data]       date!\n",
            "[nltk_data] Downloading package wordnet to\n",
            "[nltk_data]     C:\\Users\\harsh\\AppData\\Roaming\\nltk_data...\n",
            "[nltk_data]   Package wordnet is already up-to-date!\n",
            "100%|██████████| 14400/14400 [00:19<00:00, 740.86it/s]\n"
          ]
        }
      ],
      "source": [
        "nltk.download('averaged_perceptron_tagger') #used for tagging words with their parts of speech (POS)\n",
        "nltk.download('wordnet')\n",
        "\n",
        "adv_count = adj_count = noun_count = verb_count = det_count = np.zeros(14400)\n",
        "\n",
        "for i in tqdm(range(0,14400)):\n",
        "  words = df['Quote'][i].split()\n",
        "  tagged_words = nltk.pos_tag(words)\n",
        "  for word, tag in tagged_words:\n",
        "    if tag.startswith('RB'):\n",
        "      adv_count[i] += 1\n",
        "    elif tag.startswith('JJ'):\n",
        "      adj_count[i] += 1\n",
        "    elif tag.startswith('NN'):\n",
        "      noun_count[i] += 1\n",
        "    elif tag.startswith('VB'):\n",
        "      verb_count[i] += 1\n",
        "    elif tag.startswith('DT'):\n",
        "      det_count[i] += 1\n",
        "\n",
        "df['adv_count'] = adv_count\n",
        "df['adj_count'] = adj_count\n",
        "df['noun_count'] = noun_count\n",
        "df['verb_count'] = verb_count\n",
        "df['det_count'] = det_count"
      ]
    },
    {
      "cell_type": "code",
      "execution_count": 7,
      "metadata": {
        "colab": {
          "base_uri": "https://localhost:8080/"
        },
        "id": "zaceKdqJqoRr",
        "outputId": "fe190e9d-0fcf-4543-fae8-abdb5fb06d74"
      },
      "outputs": [
        {
          "name": "stderr",
          "output_type": "stream",
          "text": [
            "[nltk_data] Downloading package vader_lexicon to\n",
            "[nltk_data]     C:\\Users\\harsh\\AppData\\Roaming\\nltk_data...\n",
            "[nltk_data]   Package vader_lexicon is already up-to-date!\n"
          ]
        },
        {
          "data": {
            "text/plain": [
              "True"
            ]
          },
          "execution_count": 7,
          "metadata": {},
          "output_type": "execute_result"
        }
      ],
      "source": [
        "from nltk.sentiment.vader import SentimentIntensityAnalyzer\n",
        "\n",
        "# Download VADER lexicon (if not already downloaded)\n",
        "nltk.download('vader_lexicon')"
      ]
    },
    {
      "cell_type": "code",
      "execution_count": 9,
      "metadata": {
        "id": "W0j8UXjrq0-n"
      },
      "outputs": [],
      "source": [
        "import spacy\n",
        "nlp = spacy.load(\"en_core_web_sm\")"
      ]
    },
    {
      "cell_type": "code",
      "execution_count": 10,
      "metadata": {
        "id": "gZ2vqCGZqrpa"
      },
      "outputs": [],
      "source": [
        "def sentiment_score(text):\n",
        "  # Create a Vader SentimentIntensityAnalyzer object\n",
        "  analyzer = SentimentIntensityAnalyzer()\n",
        "  # Get sentiment scores (compound score for overall sentiment)\n",
        "  sentiment = analyzer.polarity_scores(text)\n",
        "  return sentiment[\"compound\"]\n",
        "\n",
        "def named_entities(text):\n",
        "  # Create a spaCy document\n",
        "  doc = nlp(text)\n",
        "  # Extract named entities and their labels (PERSON, ORG, etc.)\n",
        "  entities = [(entity.text, entity.label_) for entity in doc.ents]\n",
        "  return entities"
      ]
    },
    {
      "cell_type": "code",
      "execution_count": 11,
      "metadata": {
        "id": "47xCi4o-rUjp"
      },
      "outputs": [],
      "source": [
        "df[\"sentiment\"] = df['Quote'].apply(sentiment_score)\n",
        "df[\"named_entities\"] = df['Quote'].apply(lambda text: \", \".join([str(entity) for entity in named_entities(text)]))"
      ]
    },
    {
      "cell_type": "code",
      "execution_count": 12,
      "metadata": {
        "id": "VtihEwE1CCjG"
      },
      "outputs": [],
      "source": [
        "# getting count of named_entities\n",
        "df['named_entities_count'] = df['Quote'].apply(lambda x: len(named_entities(x)))"
      ]
    },
    {
      "cell_type": "code",
      "execution_count": 13,
      "metadata": {
        "colab": {
          "base_uri": "https://localhost:8080/",
          "height": 642
        },
        "id": "MonLjs0pr4Hb",
        "outputId": "6f07e75b-0d00-44b6-e2b1-4207d55a8000"
      },
      "outputs": [
        {
          "data": {
            "text/html": [
              "<div>\n",
              "<style scoped>\n",
              "    .dataframe tbody tr th:only-of-type {\n",
              "        vertical-align: middle;\n",
              "    }\n",
              "\n",
              "    .dataframe tbody tr th {\n",
              "        vertical-align: top;\n",
              "    }\n",
              "\n",
              "    .dataframe thead th {\n",
              "        text-align: right;\n",
              "    }\n",
              "</style>\n",
              "<table border=\"1\" class=\"dataframe\">\n",
              "  <thead>\n",
              "    <tr style=\"text-align: right;\">\n",
              "      <th></th>\n",
              "      <th>Politician</th>\n",
              "      <th>Quote</th>\n",
              "      <th>Image URL</th>\n",
              "      <th>char_count</th>\n",
              "      <th>word_count</th>\n",
              "      <th>word_length</th>\n",
              "      <th>adv_count</th>\n",
              "      <th>adj_count</th>\n",
              "      <th>noun_count</th>\n",
              "      <th>verb_count</th>\n",
              "      <th>det_count</th>\n",
              "      <th>sentiment</th>\n",
              "      <th>named_entities</th>\n",
              "      <th>named_entities_count</th>\n",
              "    </tr>\n",
              "  </thead>\n",
              "  <tbody>\n",
              "    <tr>\n",
              "      <th>0</th>\n",
              "      <td>Melissa Agard</td>\n",
              "      <td>potato chips  kitkat bars and viagra are not t...</td>\n",
              "      <td>true</td>\n",
              "      <td>102</td>\n",
              "      <td>16</td>\n",
              "      <td>5.312500</td>\n",
              "      <td>12.0</td>\n",
              "      <td>12.0</td>\n",
              "      <td>12.0</td>\n",
              "      <td>12.0</td>\n",
              "      <td>12.0</td>\n",
              "      <td>0.0000</td>\n",
              "      <td>('wisconsin', 'GPE')</td>\n",
              "      <td>1</td>\n",
              "    </tr>\n",
              "    <tr>\n",
              "      <th>1</th>\n",
              "      <td>Melissa Agard</td>\n",
              "      <td>since       the state senate has only rejected...</td>\n",
              "      <td>true</td>\n",
              "      <td>123</td>\n",
              "      <td>19</td>\n",
              "      <td>5.157895</td>\n",
              "      <td>15.0</td>\n",
              "      <td>15.0</td>\n",
              "      <td>15.0</td>\n",
              "      <td>15.0</td>\n",
              "      <td>15.0</td>\n",
              "      <td>-0.4588</td>\n",
              "      <td>('the state senate', 'ORG'), ('five', 'CARDINA...</td>\n",
              "      <td>4</td>\n",
              "    </tr>\n",
              "    <tr>\n",
              "      <th>2</th>\n",
              "      <td>Instagram posts</td>\n",
              "      <td>lego donates model mri kits to hospitals to he...</td>\n",
              "      <td>true</td>\n",
              "      <td>107</td>\n",
              "      <td>17</td>\n",
              "      <td>5.352941</td>\n",
              "      <td>12.0</td>\n",
              "      <td>12.0</td>\n",
              "      <td>12.0</td>\n",
              "      <td>12.0</td>\n",
              "      <td>12.0</td>\n",
              "      <td>0.2500</td>\n",
              "      <td></td>\n",
              "      <td>0</td>\n",
              "    </tr>\n",
              "    <tr>\n",
              "      <th>3</th>\n",
              "      <td>Brian Krassenstein</td>\n",
              "      <td>it has been u s  policy  for at least    years...</td>\n",
              "      <td>true</td>\n",
              "      <td>135</td>\n",
              "      <td>25</td>\n",
              "      <td>4.200000</td>\n",
              "      <td>17.0</td>\n",
              "      <td>17.0</td>\n",
              "      <td>17.0</td>\n",
              "      <td>17.0</td>\n",
              "      <td>17.0</td>\n",
              "      <td>0.2263</td>\n",
              "      <td>('at least    years', 'DATE'), ('americans', '...</td>\n",
              "      <td>2</td>\n",
              "    </tr>\n",
              "    <tr>\n",
              "      <th>4</th>\n",
              "      <td>Mike Oliverio</td>\n",
              "      <td>a few years back   mitchell stadium in bluefie...</td>\n",
              "      <td>true</td>\n",
              "      <td>114</td>\n",
              "      <td>20</td>\n",
              "      <td>4.450000</td>\n",
              "      <td>18.0</td>\n",
              "      <td>18.0</td>\n",
              "      <td>18.0</td>\n",
              "      <td>18.0</td>\n",
              "      <td>18.0</td>\n",
              "      <td>0.6369</td>\n",
              "      <td>('a few years', 'DATE'), ('america', 'GPE')</td>\n",
              "      <td>2</td>\n",
              "    </tr>\n",
              "  </tbody>\n",
              "</table>\n",
              "</div>"
            ],
            "text/plain": [
              "           Politician                                              Quote  \\\n",
              "0       Melissa Agard  potato chips  kitkat bars and viagra are not t...   \n",
              "1       Melissa Agard  since       the state senate has only rejected...   \n",
              "2     Instagram posts  lego donates model mri kits to hospitals to he...   \n",
              "3  Brian Krassenstein  it has been u s  policy  for at least    years...   \n",
              "4       Mike Oliverio  a few years back   mitchell stadium in bluefie...   \n",
              "\n",
              "  Image URL  char_count  word_count  word_length  adv_count  adj_count  \\\n",
              "0      true         102          16     5.312500       12.0       12.0   \n",
              "1      true         123          19     5.157895       15.0       15.0   \n",
              "2      true         107          17     5.352941       12.0       12.0   \n",
              "3      true         135          25     4.200000       17.0       17.0   \n",
              "4      true         114          20     4.450000       18.0       18.0   \n",
              "\n",
              "   noun_count  verb_count  det_count  sentiment  \\\n",
              "0        12.0        12.0       12.0     0.0000   \n",
              "1        15.0        15.0       15.0    -0.4588   \n",
              "2        12.0        12.0       12.0     0.2500   \n",
              "3        17.0        17.0       17.0     0.2263   \n",
              "4        18.0        18.0       18.0     0.6369   \n",
              "\n",
              "                                      named_entities  named_entities_count  \n",
              "0                               ('wisconsin', 'GPE')                     1  \n",
              "1  ('the state senate', 'ORG'), ('five', 'CARDINA...                     4  \n",
              "2                                                                        0  \n",
              "3  ('at least    years', 'DATE'), ('americans', '...                     2  \n",
              "4        ('a few years', 'DATE'), ('america', 'GPE')                     2  "
            ]
          },
          "execution_count": 13,
          "metadata": {},
          "output_type": "execute_result"
        }
      ],
      "source": [
        "df.head()"
      ]
    },
    {
      "cell_type": "code",
      "execution_count": 14,
      "metadata": {
        "id": "0q4DOGypjsBZ"
      },
      "outputs": [],
      "source": [
        "df.to_csv(\"Data/politifact_updated.csv\",index=False)"
      ]
    }
  ],
  "metadata": {
    "colab": {
      "authorship_tag": "ABX9TyMuYeQfDwDmERYQRqK1ERJA",
      "include_colab_link": true,
      "provenance": []
    },
    "kernelspec": {
      "display_name": "Python 3",
      "name": "python3"
    },
    "language_info": {
      "codemirror_mode": {
        "name": "ipython",
        "version": 3
      },
      "file_extension": ".py",
      "mimetype": "text/x-python",
      "name": "python",
      "nbconvert_exporter": "python",
      "pygments_lexer": "ipython3",
      "version": "3.10.11"
    }
  },
  "nbformat": 4,
  "nbformat_minor": 0
}
