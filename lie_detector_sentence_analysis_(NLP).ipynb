{
  "cells": [
    {
      "cell_type": "markdown",
      "metadata": {
        "colab_type": "text",
        "id": "view-in-github"
      },
      "source": [
        "<a href=\"https://colab.research.google.com/github/Anushree-B/Lie-detector/blob/main/lie_detector_sentence_analysis_(NLP).ipynb\" target=\"_parent\"><img src=\"https://colab.research.google.com/assets/colab-badge.svg\" alt=\"Open In Colab\"/></a>"
      ]
    },
    {
      "cell_type": "markdown",
      "metadata": {
        "id": "WhEvlFsLSy_Q"
      },
      "source": [
        "# Lie detector using neural network\n",
        "\n",
        "## Step 2 : Senetence Analysis\n",
        "\n",
        "Based on the analysis by Victor Palacios https://github.com/Victor-Palacios/Deception_Detection_Capstone, this notebook dives into analyzing sentences for our project on detecting deception in political speech. We'll dissect 14400 labeled quotes (true, false, etc.) to identify linguistic patterns that might differentiate truth from lies.\n",
        "\n",
        "Here's how we'll dissect these quotes:\n",
        "\n",
        "- **Word Breakdown**: We'll calculate the total number of words to understand the overall conciseness or complexity of statements.\n",
        "- **Part-of-Speech Distribution**: We'll analyze the frequency of verbs, adverbs, adjectives, and nouns. This can reveal patterns in how politicians express information (e.g., high noun count for factual claims, frequent adverbs for softening statements).\n",
        "- **Sentiment Analysis**: We'll determine the emotional tone (positive, negative, neutral) of each quote. This can highlight potential biases or manipulative language.\n",
        "- **Vocabulary Exploration**: We'll explore the specific words used, identifying keywords or phrases that might correlate with truthfulness.\n",
        "\n",
        "Thus, based on this analysis, aim is to create a dataset contating all the above factors. This will be done using Natural language processing."
      ]
    },
    {
      "cell_type": "markdown",
      "metadata": {
        "id": "wJ8rhy7lVdz5"
      },
      "source": [
        "## Importing libraries"
      ]
    },
    {
      "cell_type": "code",
      "execution_count": 11,
      "metadata": {
        "id": "s9K7DfhKSoX5"
      },
      "outputs": [],
      "source": [
        "import numpy as np\n",
        "import pandas as pd\n",
        "import re\n",
        "import nltk\n",
        "from tqdm import tqdm"
      ]
    },
    {
      "cell_type": "code",
      "execution_count": 7,
      "metadata": {
        "colab": {
          "base_uri": "https://localhost:8080/",
          "height": 206
        },
        "id": "KllIndVDV74A",
        "outputId": "573287c8-837f-4060-9034-fb7933391fdd"
      },
      "outputs": [
        {
          "data": {
            "text/html": [
              "<div>\n",
              "<style scoped>\n",
              "    .dataframe tbody tr th:only-of-type {\n",
              "        vertical-align: middle;\n",
              "    }\n",
              "\n",
              "    .dataframe tbody tr th {\n",
              "        vertical-align: top;\n",
              "    }\n",
              "\n",
              "    .dataframe thead th {\n",
              "        text-align: right;\n",
              "    }\n",
              "</style>\n",
              "<table border=\"1\" class=\"dataframe\">\n",
              "  <thead>\n",
              "    <tr style=\"text-align: right;\">\n",
              "      <th></th>\n",
              "      <th>Politician</th>\n",
              "      <th>Quote</th>\n",
              "      <th>Image URL</th>\n",
              "    </tr>\n",
              "  </thead>\n",
              "  <tbody>\n",
              "    <tr>\n",
              "      <th>0</th>\n",
              "      <td>Kamala Harris</td>\n",
              "      <td>black women in the u s  are  three to four tim...</td>\n",
              "      <td>true</td>\n",
              "    </tr>\n",
              "    <tr>\n",
              "      <th>1</th>\n",
              "      <td>Byron Donalds</td>\n",
              "      <td>kamala harris  co sponsored  fully sponsored  ...</td>\n",
              "      <td>true</td>\n",
              "    </tr>\n",
              "    <tr>\n",
              "      <th>2</th>\n",
              "      <td>David Crowley</td>\n",
              "      <td>under  the biden  administration we have witne...</td>\n",
              "      <td>true</td>\n",
              "    </tr>\n",
              "    <tr>\n",
              "      <th>3</th>\n",
              "      <td>Tony Evers</td>\n",
              "      <td>wisconsin had a  record breaking year  for tou...</td>\n",
              "      <td>true</td>\n",
              "    </tr>\n",
              "    <tr>\n",
              "      <th>4</th>\n",
              "      <td>Social Media</td>\n",
              "      <td>under federal law  former president donald tru...</td>\n",
              "      <td>true</td>\n",
              "    </tr>\n",
              "  </tbody>\n",
              "</table>\n",
              "</div>"
            ],
            "text/plain": [
              "      Politician                                              Quote Image URL\n",
              "0  Kamala Harris  black women in the u s  are  three to four tim...      true\n",
              "1  Byron Donalds  kamala harris  co sponsored  fully sponsored  ...      true\n",
              "2  David Crowley  under  the biden  administration we have witne...      true\n",
              "3     Tony Evers  wisconsin had a  record breaking year  for tou...      true\n",
              "4   Social Media  under federal law  former president donald tru...      true"
            ]
          },
          "execution_count": 7,
          "metadata": {},
          "output_type": "execute_result"
        }
      ],
      "source": [
        "df = pd.read_csv(\"Data/politifact.csv\")\n",
        "df.head()"
      ]
    },
    {
      "cell_type": "markdown",
      "metadata": {
        "id": "BpXibnCbX045"
      },
      "source": [
        "## adding character count, word count and word length of Quote"
      ]
    },
    {
      "cell_type": "code",
      "execution_count": 8,
      "metadata": {
        "colab": {
          "base_uri": "https://localhost:8080/"
        },
        "collapsed": true,
        "id": "kUW8PTZKXrNr",
        "outputId": "1f04ee22-0fb0-4d4f-9d4b-e49bc3eaf948"
      },
      "outputs": [],
      "source": [
        "df['char_count'] = np.zeros(14400)\n",
        "df['word_count'] = np.zeros(14400)\n",
        "df['word_length'] = np.zeros(14400)\n",
        "\n",
        "# for i in range(0,14400):\n",
        "#   df['char_count'][i] = len(df['Quote'][i])\n",
        "#   df['word_count'][i] = len(df['Quote'][i].split())\n",
        "#   df['word_length'][i] = np.mean([len(word) for word in df['Quote'][i].split()])\n",
        "\n",
        "df['char_count'] = df['Quote'].apply(len)\n",
        "df['word_count'] = df['Quote'].apply(lambda x: len(x.split()))\n",
        "df['word_length'] = df['Quote'].apply(lambda x: np.mean([len(word) for word in x.split()]))"
      ]
    },
    {
      "cell_type": "code",
      "execution_count": 9,
      "metadata": {
        "colab": {
          "base_uri": "https://localhost:8080/",
          "height": 206
        },
        "id": "j-2Sz8YGYhv7",
        "outputId": "141b1911-5bd8-4eab-f042-cbc18133c379"
      },
      "outputs": [
        {
          "data": {
            "text/html": [
              "<div>\n",
              "<style scoped>\n",
              "    .dataframe tbody tr th:only-of-type {\n",
              "        vertical-align: middle;\n",
              "    }\n",
              "\n",
              "    .dataframe tbody tr th {\n",
              "        vertical-align: top;\n",
              "    }\n",
              "\n",
              "    .dataframe thead th {\n",
              "        text-align: right;\n",
              "    }\n",
              "</style>\n",
              "<table border=\"1\" class=\"dataframe\">\n",
              "  <thead>\n",
              "    <tr style=\"text-align: right;\">\n",
              "      <th></th>\n",
              "      <th>Politician</th>\n",
              "      <th>Quote</th>\n",
              "      <th>Image URL</th>\n",
              "      <th>char_count</th>\n",
              "      <th>word_count</th>\n",
              "      <th>word_length</th>\n",
              "    </tr>\n",
              "  </thead>\n",
              "  <tbody>\n",
              "    <tr>\n",
              "      <th>0</th>\n",
              "      <td>Kamala Harris</td>\n",
              "      <td>black women in the u s  are  three to four tim...</td>\n",
              "      <td>true</td>\n",
              "      <td>114</td>\n",
              "      <td>22</td>\n",
              "      <td>4.136364</td>\n",
              "    </tr>\n",
              "    <tr>\n",
              "      <th>1</th>\n",
              "      <td>Byron Donalds</td>\n",
              "      <td>kamala harris  co sponsored  fully sponsored  ...</td>\n",
              "      <td>true</td>\n",
              "      <td>64</td>\n",
              "      <td>10</td>\n",
              "      <td>5.200000</td>\n",
              "    </tr>\n",
              "    <tr>\n",
              "      <th>2</th>\n",
              "      <td>David Crowley</td>\n",
              "      <td>under  the biden  administration we have witne...</td>\n",
              "      <td>true</td>\n",
              "      <td>123</td>\n",
              "      <td>19</td>\n",
              "      <td>5.263158</td>\n",
              "    </tr>\n",
              "    <tr>\n",
              "      <th>3</th>\n",
              "      <td>Tony Evers</td>\n",
              "      <td>wisconsin had a  record breaking year  for tou...</td>\n",
              "      <td>true</td>\n",
              "      <td>53</td>\n",
              "      <td>9</td>\n",
              "      <td>4.777778</td>\n",
              "    </tr>\n",
              "    <tr>\n",
              "      <th>4</th>\n",
              "      <td>Social Media</td>\n",
              "      <td>under federal law  former president donald tru...</td>\n",
              "      <td>true</td>\n",
              "      <td>105</td>\n",
              "      <td>17</td>\n",
              "      <td>5.117647</td>\n",
              "    </tr>\n",
              "  </tbody>\n",
              "</table>\n",
              "</div>"
            ],
            "text/plain": [
              "      Politician                                              Quote Image URL  \\\n",
              "0  Kamala Harris  black women in the u s  are  three to four tim...      true   \n",
              "1  Byron Donalds  kamala harris  co sponsored  fully sponsored  ...      true   \n",
              "2  David Crowley  under  the biden  administration we have witne...      true   \n",
              "3     Tony Evers  wisconsin had a  record breaking year  for tou...      true   \n",
              "4   Social Media  under federal law  former president donald tru...      true   \n",
              "\n",
              "   char_count  word_count  word_length  \n",
              "0         114          22     4.136364  \n",
              "1          64          10     5.200000  \n",
              "2         123          19     5.263158  \n",
              "3          53           9     4.777778  \n",
              "4         105          17     5.117647  "
            ]
          },
          "execution_count": 9,
          "metadata": {},
          "output_type": "execute_result"
        }
      ],
      "source": [
        "df.head()"
      ]
    },
    {
      "cell_type": "markdown",
      "metadata": {
        "id": "YWg3cpYta9Hq"
      },
      "source": [
        "## FInding the number of adverbs, adjectives, nouns and verbs in Quote"
      ]
    },
    {
      "cell_type": "code",
      "execution_count": 12,
      "metadata": {
        "colab": {
          "base_uri": "https://localhost:8080/"
        },
        "id": "TIjoBzjHY9Ab",
        "outputId": "a65bdfbb-0d78-4e31-8f30-020f449e6818"
      },
      "outputs": [
        {
          "name": "stderr",
          "output_type": "stream",
          "text": [
            "[nltk_data] Downloading package averaged_perceptron_tagger to\n",
            "[nltk_data]     C:\\Users\\harsh\\AppData\\Roaming\\nltk_data...\n",
            "[nltk_data]   Package averaged_perceptron_tagger is already up-to-\n",
            "[nltk_data]       date!\n",
            "[nltk_data] Downloading package wordnet to\n",
            "[nltk_data]     C:\\Users\\harsh\\AppData\\Roaming\\nltk_data...\n",
            "[nltk_data]   Package wordnet is already up-to-date!\n",
            "  0%|          | 0/14400 [00:00<?, ?it/s]"
          ]
        },
        {
          "name": "stderr",
          "output_type": "stream",
          "text": [
            "100%|██████████| 14400/14400 [00:20<00:00, 718.08it/s]\n"
          ]
        }
      ],
      "source": [
        "nltk.download('averaged_perceptron_tagger') #used for tagging words with their parts of speech (POS)\n",
        "nltk.download('wordnet')\n",
        "\n",
        "adv_count = np.zeros(14400)\n",
        "adj_count = np.zeros(14400)\n",
        "noun_count = np.zeros(14400)\n",
        "verb_count = np.zeros(14400)\n",
        "det_count = np.zeros(14400)\n",
        "\n",
        "for i in tqdm(range(0,14400)):\n",
        "  words = df['Quote'][i].split()\n",
        "  tagged_words = nltk.pos_tag(words)\n",
        "  for word, tag in tagged_words:\n",
        "    if tag.startswith('RB'):\n",
        "      adv_count[i] += 1\n",
        "    elif tag.startswith('JJ'):\n",
        "      adj_count[i] += 1\n",
        "    elif tag.startswith('NN'):\n",
        "      noun_count[i] += 1\n",
        "    elif tag.startswith('VB'):\n",
        "      verb_count[i] += 1\n",
        "    elif tag.startswith('DT'):\n",
        "      det_count[i] += 1\n",
        "\n",
        "df['adv_count'] = adv_count\n",
        "df['adj_count'] = adj_count\n",
        "df['noun_count'] = noun_count\n",
        "df['verb_count'] = verb_count\n",
        "df['det_count'] = det_count"
      ]
    },
    {
      "cell_type": "code",
      "execution_count": 13,
      "metadata": {
        "colab": {
          "base_uri": "https://localhost:8080/",
          "height": 484
        },
        "id": "iW_FuZtajieC",
        "outputId": "a65a87fe-af42-4bb6-ec5f-71a5c9d46221"
      },
      "outputs": [
        {
          "data": {
            "text/html": [
              "<div>\n",
              "<style scoped>\n",
              "    .dataframe tbody tr th:only-of-type {\n",
              "        vertical-align: middle;\n",
              "    }\n",
              "\n",
              "    .dataframe tbody tr th {\n",
              "        vertical-align: top;\n",
              "    }\n",
              "\n",
              "    .dataframe thead th {\n",
              "        text-align: right;\n",
              "    }\n",
              "</style>\n",
              "<table border=\"1\" class=\"dataframe\">\n",
              "  <thead>\n",
              "    <tr style=\"text-align: right;\">\n",
              "      <th></th>\n",
              "      <th>Politician</th>\n",
              "      <th>Quote</th>\n",
              "      <th>Image URL</th>\n",
              "      <th>char_count</th>\n",
              "      <th>word_count</th>\n",
              "      <th>word_length</th>\n",
              "      <th>adv_count</th>\n",
              "      <th>adj_count</th>\n",
              "      <th>noun_count</th>\n",
              "      <th>verb_count</th>\n",
              "      <th>det_count</th>\n",
              "    </tr>\n",
              "  </thead>\n",
              "  <tbody>\n",
              "    <tr>\n",
              "      <th>0</th>\n",
              "      <td>Kamala Harris</td>\n",
              "      <td>black women in the u s  are  three to four tim...</td>\n",
              "      <td>true</td>\n",
              "      <td>114</td>\n",
              "      <td>22</td>\n",
              "      <td>4.136364</td>\n",
              "      <td>1.0</td>\n",
              "      <td>4.0</td>\n",
              "      <td>6.0</td>\n",
              "      <td>2.0</td>\n",
              "      <td>1.0</td>\n",
              "    </tr>\n",
              "    <tr>\n",
              "      <th>1</th>\n",
              "      <td>Byron Donalds</td>\n",
              "      <td>kamala harris  co sponsored  fully sponsored  ...</td>\n",
              "      <td>true</td>\n",
              "      <td>64</td>\n",
              "      <td>10</td>\n",
              "      <td>5.200000</td>\n",
              "      <td>1.0</td>\n",
              "      <td>2.0</td>\n",
              "      <td>1.0</td>\n",
              "      <td>4.0</td>\n",
              "      <td>1.0</td>\n",
              "    </tr>\n",
              "    <tr>\n",
              "      <th>2</th>\n",
              "      <td>David Crowley</td>\n",
              "      <td>under  the biden  administration we have witne...</td>\n",
              "      <td>true</td>\n",
              "      <td>123</td>\n",
              "      <td>19</td>\n",
              "      <td>5.263158</td>\n",
              "      <td>0.0</td>\n",
              "      <td>5.0</td>\n",
              "      <td>4.0</td>\n",
              "      <td>3.0</td>\n",
              "      <td>2.0</td>\n",
              "    </tr>\n",
              "    <tr>\n",
              "      <th>3</th>\n",
              "      <td>Tony Evers</td>\n",
              "      <td>wisconsin had a  record breaking year  for tou...</td>\n",
              "      <td>true</td>\n",
              "      <td>53</td>\n",
              "      <td>9</td>\n",
              "      <td>4.777778</td>\n",
              "      <td>0.0</td>\n",
              "      <td>0.0</td>\n",
              "      <td>5.0</td>\n",
              "      <td>1.0</td>\n",
              "      <td>1.0</td>\n",
              "    </tr>\n",
              "    <tr>\n",
              "      <th>4</th>\n",
              "      <td>Social Media</td>\n",
              "      <td>under federal law  former president donald tru...</td>\n",
              "      <td>true</td>\n",
              "      <td>105</td>\n",
              "      <td>17</td>\n",
              "      <td>5.117647</td>\n",
              "      <td>2.0</td>\n",
              "      <td>2.0</td>\n",
              "      <td>8.0</td>\n",
              "      <td>1.0</td>\n",
              "      <td>0.0</td>\n",
              "    </tr>\n",
              "  </tbody>\n",
              "</table>\n",
              "</div>"
            ],
            "text/plain": [
              "      Politician                                              Quote Image URL  \\\n",
              "0  Kamala Harris  black women in the u s  are  three to four tim...      true   \n",
              "1  Byron Donalds  kamala harris  co sponsored  fully sponsored  ...      true   \n",
              "2  David Crowley  under  the biden  administration we have witne...      true   \n",
              "3     Tony Evers  wisconsin had a  record breaking year  for tou...      true   \n",
              "4   Social Media  under federal law  former president donald tru...      true   \n",
              "\n",
              "   char_count  word_count  word_length  adv_count  adj_count  noun_count  \\\n",
              "0         114          22     4.136364        1.0        4.0         6.0   \n",
              "1          64          10     5.200000        1.0        2.0         1.0   \n",
              "2         123          19     5.263158        0.0        5.0         4.0   \n",
              "3          53           9     4.777778        0.0        0.0         5.0   \n",
              "4         105          17     5.117647        2.0        2.0         8.0   \n",
              "\n",
              "   verb_count  det_count  \n",
              "0         2.0        1.0  \n",
              "1         4.0        1.0  \n",
              "2         3.0        2.0  \n",
              "3         1.0        1.0  \n",
              "4         1.0        0.0  "
            ]
          },
          "execution_count": 13,
          "metadata": {},
          "output_type": "execute_result"
        }
      ],
      "source": [
        "df.head()"
      ]
    },
    {
      "cell_type": "code",
      "execution_count": 14,
      "metadata": {
        "colab": {
          "base_uri": "https://localhost:8080/"
        },
        "id": "zaceKdqJqoRr",
        "outputId": "fe190e9d-0fcf-4543-fae8-abdb5fb06d74"
      },
      "outputs": [
        {
          "name": "stderr",
          "output_type": "stream",
          "text": [
            "[nltk_data] Downloading package vader_lexicon to\n",
            "[nltk_data]     C:\\Users\\harsh\\AppData\\Roaming\\nltk_data...\n",
            "[nltk_data]   Package vader_lexicon is already up-to-date!\n"
          ]
        },
        {
          "data": {
            "text/plain": [
              "True"
            ]
          },
          "execution_count": 14,
          "metadata": {},
          "output_type": "execute_result"
        }
      ],
      "source": [
        "from nltk.sentiment.vader import SentimentIntensityAnalyzer\n",
        "\n",
        "# Download VADER lexicon (if not already downloaded)\n",
        "nltk.download('vader_lexicon')"
      ]
    },
    {
      "cell_type": "code",
      "execution_count": 15,
      "metadata": {
        "id": "W0j8UXjrq0-n"
      },
      "outputs": [],
      "source": [
        "import spacy\n",
        "nlp = spacy.load(\"en_core_web_sm\")"
      ]
    },
    {
      "cell_type": "code",
      "execution_count": 16,
      "metadata": {
        "id": "gZ2vqCGZqrpa"
      },
      "outputs": [],
      "source": [
        "def sentiment_score(text):\n",
        "  # Create a Vader SentimentIntensityAnalyzer object\n",
        "  analyzer = SentimentIntensityAnalyzer()\n",
        "  # Get sentiment scores (compound score for overall sentiment)\n",
        "  sentiment = analyzer.polarity_scores(text)\n",
        "  return sentiment[\"compound\"]\n",
        "\n",
        "def named_entities(text):\n",
        "  # Create a spaCy document\n",
        "  doc = nlp(text)\n",
        "  # Extract named entities and their labels (PERSON, ORG, etc.)\n",
        "  entities = [(entity.text, entity.label_) for entity in doc.ents]\n",
        "  return entities"
      ]
    },
    {
      "cell_type": "code",
      "execution_count": 17,
      "metadata": {
        "id": "47xCi4o-rUjp"
      },
      "outputs": [],
      "source": [
        "df[\"sentiment\"] = df['Quote'].apply(sentiment_score)\n",
        "df[\"named_entities\"] = df['Quote'].apply(lambda text: \", \".join([str(entity) for entity in named_entities(text)]))"
      ]
    },
    {
      "cell_type": "code",
      "execution_count": 18,
      "metadata": {
        "id": "VtihEwE1CCjG"
      },
      "outputs": [],
      "source": [
        "# getting count of named_entities\n",
        "df['named_entities_count'] = df['Quote'].apply(lambda x: len(named_entities(x)))"
      ]
    },
    {
      "cell_type": "code",
      "execution_count": 19,
      "metadata": {
        "id": "xOntk2EfCGBG"
      },
      "outputs": [],
      "source": [
        "df = df.drop(['named_entities'], axis = 1)"
      ]
    },
    {
      "cell_type": "code",
      "execution_count": 20,
      "metadata": {
        "colab": {
          "base_uri": "https://localhost:8080/",
          "height": 642
        },
        "id": "MonLjs0pr4Hb",
        "outputId": "6f07e75b-0d00-44b6-e2b1-4207d55a8000"
      },
      "outputs": [
        {
          "data": {
            "text/html": [
              "<div>\n",
              "<style scoped>\n",
              "    .dataframe tbody tr th:only-of-type {\n",
              "        vertical-align: middle;\n",
              "    }\n",
              "\n",
              "    .dataframe tbody tr th {\n",
              "        vertical-align: top;\n",
              "    }\n",
              "\n",
              "    .dataframe thead th {\n",
              "        text-align: right;\n",
              "    }\n",
              "</style>\n",
              "<table border=\"1\" class=\"dataframe\">\n",
              "  <thead>\n",
              "    <tr style=\"text-align: right;\">\n",
              "      <th></th>\n",
              "      <th>Politician</th>\n",
              "      <th>Quote</th>\n",
              "      <th>Image URL</th>\n",
              "      <th>char_count</th>\n",
              "      <th>word_count</th>\n",
              "      <th>word_length</th>\n",
              "      <th>adv_count</th>\n",
              "      <th>adj_count</th>\n",
              "      <th>noun_count</th>\n",
              "      <th>verb_count</th>\n",
              "      <th>det_count</th>\n",
              "      <th>sentiment</th>\n",
              "      <th>named_entities_count</th>\n",
              "    </tr>\n",
              "  </thead>\n",
              "  <tbody>\n",
              "    <tr>\n",
              "      <th>0</th>\n",
              "      <td>Kamala Harris</td>\n",
              "      <td>black women in the u s  are  three to four tim...</td>\n",
              "      <td>true</td>\n",
              "      <td>114</td>\n",
              "      <td>22</td>\n",
              "      <td>4.136364</td>\n",
              "      <td>1.0</td>\n",
              "      <td>4.0</td>\n",
              "      <td>6.0</td>\n",
              "      <td>2.0</td>\n",
              "      <td>1.0</td>\n",
              "      <td>-0.6326</td>\n",
              "      <td>1</td>\n",
              "    </tr>\n",
              "    <tr>\n",
              "      <th>1</th>\n",
              "      <td>Byron Donalds</td>\n",
              "      <td>kamala harris  co sponsored  fully sponsored  ...</td>\n",
              "      <td>true</td>\n",
              "      <td>64</td>\n",
              "      <td>10</td>\n",
              "      <td>5.200000</td>\n",
              "      <td>1.0</td>\n",
              "      <td>2.0</td>\n",
              "      <td>1.0</td>\n",
              "      <td>4.0</td>\n",
              "      <td>1.0</td>\n",
              "      <td>0.0000</td>\n",
              "      <td>1</td>\n",
              "    </tr>\n",
              "    <tr>\n",
              "      <th>2</th>\n",
              "      <td>David Crowley</td>\n",
              "      <td>under  the biden  administration we have witne...</td>\n",
              "      <td>true</td>\n",
              "      <td>123</td>\n",
              "      <td>19</td>\n",
              "      <td>5.263158</td>\n",
              "      <td>0.0</td>\n",
              "      <td>5.0</td>\n",
              "      <td>4.0</td>\n",
              "      <td>3.0</td>\n",
              "      <td>2.0</td>\n",
              "      <td>0.3818</td>\n",
              "      <td>1</td>\n",
              "    </tr>\n",
              "    <tr>\n",
              "      <th>3</th>\n",
              "      <td>Tony Evers</td>\n",
              "      <td>wisconsin had a  record breaking year  for tou...</td>\n",
              "      <td>true</td>\n",
              "      <td>53</td>\n",
              "      <td>9</td>\n",
              "      <td>4.777778</td>\n",
              "      <td>0.0</td>\n",
              "      <td>0.0</td>\n",
              "      <td>5.0</td>\n",
              "      <td>1.0</td>\n",
              "      <td>1.0</td>\n",
              "      <td>0.0000</td>\n",
              "      <td>1</td>\n",
              "    </tr>\n",
              "    <tr>\n",
              "      <th>4</th>\n",
              "      <td>Social Media</td>\n",
              "      <td>under federal law  former president donald tru...</td>\n",
              "      <td>true</td>\n",
              "      <td>105</td>\n",
              "      <td>17</td>\n",
              "      <td>5.117647</td>\n",
              "      <td>2.0</td>\n",
              "      <td>2.0</td>\n",
              "      <td>8.0</td>\n",
              "      <td>1.0</td>\n",
              "      <td>0.0</td>\n",
              "      <td>-0.6908</td>\n",
              "      <td>1</td>\n",
              "    </tr>\n",
              "  </tbody>\n",
              "</table>\n",
              "</div>"
            ],
            "text/plain": [
              "      Politician                                              Quote Image URL  \\\n",
              "0  Kamala Harris  black women in the u s  are  three to four tim...      true   \n",
              "1  Byron Donalds  kamala harris  co sponsored  fully sponsored  ...      true   \n",
              "2  David Crowley  under  the biden  administration we have witne...      true   \n",
              "3     Tony Evers  wisconsin had a  record breaking year  for tou...      true   \n",
              "4   Social Media  under federal law  former president donald tru...      true   \n",
              "\n",
              "   char_count  word_count  word_length  adv_count  adj_count  noun_count  \\\n",
              "0         114          22     4.136364        1.0        4.0         6.0   \n",
              "1          64          10     5.200000        1.0        2.0         1.0   \n",
              "2         123          19     5.263158        0.0        5.0         4.0   \n",
              "3          53           9     4.777778        0.0        0.0         5.0   \n",
              "4         105          17     5.117647        2.0        2.0         8.0   \n",
              "\n",
              "   verb_count  det_count  sentiment  named_entities_count  \n",
              "0         2.0        1.0    -0.6326                     1  \n",
              "1         4.0        1.0     0.0000                     1  \n",
              "2         3.0        2.0     0.3818                     1  \n",
              "3         1.0        1.0     0.0000                     1  \n",
              "4         1.0        0.0    -0.6908                     1  "
            ]
          },
          "execution_count": 20,
          "metadata": {},
          "output_type": "execute_result"
        }
      ],
      "source": [
        "df.head()"
      ]
    },
    {
      "cell_type": "code",
      "execution_count": 21,
      "metadata": {
        "id": "0q4DOGypjsBZ"
      },
      "outputs": [],
      "source": [
        "df.to_csv(\"Data/politifact_updated.csv\",index=False)"
      ]
    }
  ],
  "metadata": {
    "colab": {
      "authorship_tag": "ABX9TyMuYeQfDwDmERYQRqK1ERJA",
      "include_colab_link": true,
      "provenance": []
    },
    "kernelspec": {
      "display_name": "Python 3",
      "name": "python3"
    },
    "language_info": {
      "codemirror_mode": {
        "name": "ipython",
        "version": 3
      },
      "file_extension": ".py",
      "mimetype": "text/x-python",
      "name": "python",
      "nbconvert_exporter": "python",
      "pygments_lexer": "ipython3",
      "version": "3.10.11"
    }
  },
  "nbformat": 4,
  "nbformat_minor": 0
}
