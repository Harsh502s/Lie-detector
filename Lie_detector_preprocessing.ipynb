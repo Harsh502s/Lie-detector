{
  "cells": [
    {
      "cell_type": "markdown",
      "metadata": {
        "colab_type": "text",
        "id": "view-in-github"
      },
      "source": [
        "<a href=\"https://colab.research.google.com/github/Anushree-B/Lie-detector/blob/main/Lie_detector_preprocessing.ipynb\" target=\"_parent\"><img src=\"https://colab.research.google.com/assets/colab-badge.svg\" alt=\"Open In Colab\"/></a>"
      ]
    },
    {
      "cell_type": "code",
      "execution_count": 79,
      "metadata": {
        "id": "SkwJHyqGRN_D"
      },
      "outputs": [],
      "source": [
        "import pandas as pd\n",
        "import numpy as np"
      ]
    },
    {
      "cell_type": "code",
      "execution_count": 80,
      "metadata": {
        "id": "Z46W-YvsRg-H"
      },
      "outputs": [],
      "source": [
        "df = pd.read_csv(\"Data/politifact_updated.csv\")"
      ]
    },
    {
      "cell_type": "code",
      "execution_count": 81,
      "metadata": {
        "colab": {
          "base_uri": "https://localhost:8080/",
          "height": 642
        },
        "id": "1I7AQ3qLRvvh",
        "outputId": "8cee4744-e63a-4376-e081-33a9183db2de"
      },
      "outputs": [
        {
          "data": {
            "text/html": [
              "<div>\n",
              "<style scoped>\n",
              "    .dataframe tbody tr th:only-of-type {\n",
              "        vertical-align: middle;\n",
              "    }\n",
              "\n",
              "    .dataframe tbody tr th {\n",
              "        vertical-align: top;\n",
              "    }\n",
              "\n",
              "    .dataframe thead th {\n",
              "        text-align: right;\n",
              "    }\n",
              "</style>\n",
              "<table border=\"1\" class=\"dataframe\">\n",
              "  <thead>\n",
              "    <tr style=\"text-align: right;\">\n",
              "      <th></th>\n",
              "      <th>Politician</th>\n",
              "      <th>Quote</th>\n",
              "      <th>Image URL</th>\n",
              "      <th>char_count</th>\n",
              "      <th>word_count</th>\n",
              "      <th>word_length</th>\n",
              "      <th>adv_count</th>\n",
              "      <th>adj_count</th>\n",
              "      <th>noun_count</th>\n",
              "      <th>verb_count</th>\n",
              "      <th>det_count</th>\n",
              "      <th>sentiment</th>\n",
              "      <th>named_entities</th>\n",
              "      <th>named_entities_count</th>\n",
              "    </tr>\n",
              "  </thead>\n",
              "  <tbody>\n",
              "    <tr>\n",
              "      <th>0</th>\n",
              "      <td>Melissa Agard</td>\n",
              "      <td>potato chips  kitkat bars and viagra are not t...</td>\n",
              "      <td>true</td>\n",
              "      <td>102</td>\n",
              "      <td>16</td>\n",
              "      <td>5.312500</td>\n",
              "      <td>12.0</td>\n",
              "      <td>12.0</td>\n",
              "      <td>12.0</td>\n",
              "      <td>12.0</td>\n",
              "      <td>12.0</td>\n",
              "      <td>0.0000</td>\n",
              "      <td>('wisconsin', 'GPE')</td>\n",
              "      <td>1</td>\n",
              "    </tr>\n",
              "    <tr>\n",
              "      <th>1</th>\n",
              "      <td>Melissa Agard</td>\n",
              "      <td>since       the state senate has only rejected...</td>\n",
              "      <td>true</td>\n",
              "      <td>123</td>\n",
              "      <td>19</td>\n",
              "      <td>5.157895</td>\n",
              "      <td>15.0</td>\n",
              "      <td>15.0</td>\n",
              "      <td>15.0</td>\n",
              "      <td>15.0</td>\n",
              "      <td>15.0</td>\n",
              "      <td>-0.4588</td>\n",
              "      <td>('the state senate', 'ORG'), ('five', 'CARDINA...</td>\n",
              "      <td>4</td>\n",
              "    </tr>\n",
              "    <tr>\n",
              "      <th>2</th>\n",
              "      <td>Instagram posts</td>\n",
              "      <td>lego donates model mri kits to hospitals to he...</td>\n",
              "      <td>true</td>\n",
              "      <td>107</td>\n",
              "      <td>17</td>\n",
              "      <td>5.352941</td>\n",
              "      <td>12.0</td>\n",
              "      <td>12.0</td>\n",
              "      <td>12.0</td>\n",
              "      <td>12.0</td>\n",
              "      <td>12.0</td>\n",
              "      <td>0.2500</td>\n",
              "      <td>NaN</td>\n",
              "      <td>0</td>\n",
              "    </tr>\n",
              "    <tr>\n",
              "      <th>3</th>\n",
              "      <td>Brian Krassenstein</td>\n",
              "      <td>it has been u s  policy  for at least    years...</td>\n",
              "      <td>true</td>\n",
              "      <td>135</td>\n",
              "      <td>25</td>\n",
              "      <td>4.200000</td>\n",
              "      <td>17.0</td>\n",
              "      <td>17.0</td>\n",
              "      <td>17.0</td>\n",
              "      <td>17.0</td>\n",
              "      <td>17.0</td>\n",
              "      <td>0.2263</td>\n",
              "      <td>('at least    years', 'DATE'), ('americans', '...</td>\n",
              "      <td>2</td>\n",
              "    </tr>\n",
              "    <tr>\n",
              "      <th>4</th>\n",
              "      <td>Mike Oliverio</td>\n",
              "      <td>a few years back   mitchell stadium in bluefie...</td>\n",
              "      <td>true</td>\n",
              "      <td>114</td>\n",
              "      <td>20</td>\n",
              "      <td>4.450000</td>\n",
              "      <td>18.0</td>\n",
              "      <td>18.0</td>\n",
              "      <td>18.0</td>\n",
              "      <td>18.0</td>\n",
              "      <td>18.0</td>\n",
              "      <td>0.6369</td>\n",
              "      <td>('a few years', 'DATE'), ('america', 'GPE')</td>\n",
              "      <td>2</td>\n",
              "    </tr>\n",
              "  </tbody>\n",
              "</table>\n",
              "</div>"
            ],
            "text/plain": [
              "           Politician                                              Quote  \\\n",
              "0       Melissa Agard  potato chips  kitkat bars and viagra are not t...   \n",
              "1       Melissa Agard  since       the state senate has only rejected...   \n",
              "2     Instagram posts  lego donates model mri kits to hospitals to he...   \n",
              "3  Brian Krassenstein  it has been u s  policy  for at least    years...   \n",
              "4       Mike Oliverio  a few years back   mitchell stadium in bluefie...   \n",
              "\n",
              "  Image URL  char_count  word_count  word_length  adv_count  adj_count  \\\n",
              "0      true         102          16     5.312500       12.0       12.0   \n",
              "1      true         123          19     5.157895       15.0       15.0   \n",
              "2      true         107          17     5.352941       12.0       12.0   \n",
              "3      true         135          25     4.200000       17.0       17.0   \n",
              "4      true         114          20     4.450000       18.0       18.0   \n",
              "\n",
              "   noun_count  verb_count  det_count  sentiment  \\\n",
              "0        12.0        12.0       12.0     0.0000   \n",
              "1        15.0        15.0       15.0    -0.4588   \n",
              "2        12.0        12.0       12.0     0.2500   \n",
              "3        17.0        17.0       17.0     0.2263   \n",
              "4        18.0        18.0       18.0     0.6369   \n",
              "\n",
              "                                      named_entities  named_entities_count  \n",
              "0                               ('wisconsin', 'GPE')                     1  \n",
              "1  ('the state senate', 'ORG'), ('five', 'CARDINA...                     4  \n",
              "2                                                NaN                     0  \n",
              "3  ('at least    years', 'DATE'), ('americans', '...                     2  \n",
              "4        ('a few years', 'DATE'), ('america', 'GPE')                     2  "
            ]
          },
          "execution_count": 81,
          "metadata": {},
          "output_type": "execute_result"
        }
      ],
      "source": [
        "df.head()"
      ]
    },
    {
      "cell_type": "code",
      "execution_count": 82,
      "metadata": {},
      "outputs": [
        {
          "data": {
            "text/plain": [
              "(14400, 14)"
            ]
          },
          "execution_count": 82,
          "metadata": {},
          "output_type": "execute_result"
        }
      ],
      "source": [
        "df.shape"
      ]
    },
    {
      "cell_type": "markdown",
      "metadata": {
        "id": "CMtjjHNRVQKM"
      },
      "source": [
        "# Data preprocessing and cleaning"
      ]
    },
    {
      "cell_type": "markdown",
      "metadata": {
        "id": "xMXU78zIVeh7"
      },
      "source": [
        "The target variable currently is Imahe URL, consisting of 6 truth values, converting that variable to Truth value having only 3 truth values"
      ]
    },
    {
      "cell_type": "code",
      "execution_count": 83,
      "metadata": {
        "id": "vMujsWepVtUw"
      },
      "outputs": [],
      "source": [
        "df['Image URL'] = df['Image URL'].map({\"TRUE\" : 1, \"mostly-true\" : 1, \"half-true\" : 2, \"barely-true\" :3, \"FALSE\": 3 , \"pants-fire\": 3})"
      ]
    },
    {
      "cell_type": "code",
      "execution_count": 84,
      "metadata": {
        "id": "W_wqqsiEOgI6"
      },
      "outputs": [],
      "source": [
        "df_new = df.copy()\n",
        "# Apply the mapping to the 'truth_value' column\n",
        "df['Truth value'] = df['Image URL']\n",
        "df = df[df['Truth value'].notnull()]"
      ]
    },
    {
      "cell_type": "markdown",
      "metadata": {
        "id": "0l8AWc31V36k"
      },
      "source": [
        "Dropping unnecessary columns"
      ]
    },
    {
      "cell_type": "code",
      "execution_count": 85,
      "metadata": {
        "id": "YAWSpdS3V6k3"
      },
      "outputs": [],
      "source": [
        "df.drop(['char_count','Image URL'], axis = 1,inplace=True)"
      ]
    },
    {
      "cell_type": "code",
      "execution_count": 86,
      "metadata": {
        "id": "5r7dz-AsalPU"
      },
      "outputs": [],
      "source": [
        "# politicians_to_drop = ['Facebook posts','Viral image','Instagram posts','Bloggers','X posts','TikTok posts','Social Media']\n",
        "# df = df[~df['Politician'].isin(politicians_to_drop)]"
      ]
    },
    {
      "cell_type": "code",
      "execution_count": 87,
      "metadata": {
        "id": "SvK9kOrJb8xT"
      },
      "outputs": [],
      "source": [
        "politicians_to_keep = df['Politician'].value_counts()[df['Politician'].value_counts() > 150].index.tolist()\n",
        "df = df[df['Politician'].isin(politicians_to_keep)]"
      ]
    },
    {
      "cell_type": "code",
      "execution_count": 88,
      "metadata": {
        "colab": {
          "base_uri": "https://localhost:8080/"
        },
        "id": "jedq3WTXarDe",
        "outputId": "1760a04f-e7f5-4b8d-a892-71b4f3c4826f"
      },
      "outputs": [
        {
          "data": {
            "text/plain": [
              "(3108, 13)"
            ]
          },
          "execution_count": 88,
          "metadata": {},
          "output_type": "execute_result"
        }
      ],
      "source": [
        "df.shape"
      ]
    },
    {
      "cell_type": "code",
      "execution_count": 89,
      "metadata": {
        "id": "yRoh2Mt_gxZf"
      },
      "outputs": [],
      "source": [
        "from sklearn.preprocessing import LabelEncoder\n",
        "le = LabelEncoder()\n",
        "df['Politician'] = le.fit_transform(df['Politician'])"
      ]
    },
    {
      "cell_type": "code",
      "execution_count": 90,
      "metadata": {},
      "outputs": [
        {
          "data": {
            "text/html": [
              "<div>\n",
              "<style scoped>\n",
              "    .dataframe tbody tr th:only-of-type {\n",
              "        vertical-align: middle;\n",
              "    }\n",
              "\n",
              "    .dataframe tbody tr th {\n",
              "        vertical-align: top;\n",
              "    }\n",
              "\n",
              "    .dataframe thead th {\n",
              "        text-align: right;\n",
              "    }\n",
              "</style>\n",
              "<table border=\"1\" class=\"dataframe\">\n",
              "  <thead>\n",
              "    <tr style=\"text-align: right;\">\n",
              "      <th></th>\n",
              "      <th>Politician</th>\n",
              "      <th>Quote</th>\n",
              "      <th>word_count</th>\n",
              "      <th>word_length</th>\n",
              "      <th>adv_count</th>\n",
              "      <th>adj_count</th>\n",
              "      <th>noun_count</th>\n",
              "      <th>verb_count</th>\n",
              "      <th>det_count</th>\n",
              "      <th>sentiment</th>\n",
              "      <th>named_entities</th>\n",
              "      <th>named_entities_count</th>\n",
              "      <th>Truth value</th>\n",
              "    </tr>\n",
              "  </thead>\n",
              "  <tbody>\n",
              "    <tr>\n",
              "      <th>2370</th>\n",
              "      <td>5</td>\n",
              "      <td>says that under his presidency  the unemployme...</td>\n",
              "      <td>20</td>\n",
              "      <td>5.050000</td>\n",
              "      <td>13.0</td>\n",
              "      <td>13.0</td>\n",
              "      <td>13.0</td>\n",
              "      <td>13.0</td>\n",
              "      <td>13.0</td>\n",
              "      <td>-0.4404</td>\n",
              "      <td>('american', 'NORP')</td>\n",
              "      <td>1</td>\n",
              "      <td>1.0</td>\n",
              "    </tr>\n",
              "    <tr>\n",
              "      <th>2373</th>\n",
              "      <td>5</td>\n",
              "      <td>in the u s    a person can be married in the m...</td>\n",
              "      <td>24</td>\n",
              "      <td>3.666667</td>\n",
              "      <td>16.0</td>\n",
              "      <td>16.0</td>\n",
              "      <td>16.0</td>\n",
              "      <td>16.0</td>\n",
              "      <td>16.0</td>\n",
              "      <td>0.0000</td>\n",
              "      <td>('afternoon', 'TIME')</td>\n",
              "      <td>1</td>\n",
              "      <td>1.0</td>\n",
              "    </tr>\n",
              "    <tr>\n",
              "      <th>2382</th>\n",
              "      <td>2</td>\n",
              "      <td>texas republicans just voted to give a republi...</td>\n",
              "      <td>24</td>\n",
              "      <td>5.416667</td>\n",
              "      <td>21.0</td>\n",
              "      <td>21.0</td>\n",
              "      <td>21.0</td>\n",
              "      <td>21.0</td>\n",
              "      <td>21.0</td>\n",
              "      <td>-0.2500</td>\n",
              "      <td>('texas', 'GPE'), ('republicans', 'NORP'), ('r...</td>\n",
              "      <td>3</td>\n",
              "      <td>1.0</td>\n",
              "    </tr>\n",
              "    <tr>\n",
              "      <th>2389</th>\n",
              "      <td>4</td>\n",
              "      <td>the uk has had zero school shootings since  it...</td>\n",
              "      <td>17</td>\n",
              "      <td>4.352941</td>\n",
              "      <td>12.0</td>\n",
              "      <td>12.0</td>\n",
              "      <td>12.0</td>\n",
              "      <td>12.0</td>\n",
              "      <td>12.0</td>\n",
              "      <td>-0.3400</td>\n",
              "      <td>('uk', 'GPE'), ('zero', 'CARDINAL')</td>\n",
              "      <td>2</td>\n",
              "      <td>1.0</td>\n",
              "    </tr>\n",
              "    <tr>\n",
              "      <th>2393</th>\n",
              "      <td>5</td>\n",
              "      <td>we cut black child poverty in half in      bec...</td>\n",
              "      <td>14</td>\n",
              "      <td>4.000000</td>\n",
              "      <td>9.0</td>\n",
              "      <td>9.0</td>\n",
              "      <td>9.0</td>\n",
              "      <td>9.0</td>\n",
              "      <td>9.0</td>\n",
              "      <td>-0.4215</td>\n",
              "      <td>('half', 'CARDINAL')</td>\n",
              "      <td>1</td>\n",
              "      <td>1.0</td>\n",
              "    </tr>\n",
              "  </tbody>\n",
              "</table>\n",
              "</div>"
            ],
            "text/plain": [
              "      Politician                                              Quote  \\\n",
              "2370           5  says that under his presidency  the unemployme...   \n",
              "2373           5  in the u s    a person can be married in the m...   \n",
              "2382           2  texas republicans just voted to give a republi...   \n",
              "2389           4  the uk has had zero school shootings since  it...   \n",
              "2393           5  we cut black child poverty in half in      bec...   \n",
              "\n",
              "      word_count  word_length  adv_count  adj_count  noun_count  verb_count  \\\n",
              "2370          20     5.050000       13.0       13.0        13.0        13.0   \n",
              "2373          24     3.666667       16.0       16.0        16.0        16.0   \n",
              "2382          24     5.416667       21.0       21.0        21.0        21.0   \n",
              "2389          17     4.352941       12.0       12.0        12.0        12.0   \n",
              "2393          14     4.000000        9.0        9.0         9.0         9.0   \n",
              "\n",
              "      det_count  sentiment                                     named_entities  \\\n",
              "2370       13.0    -0.4404                               ('american', 'NORP')   \n",
              "2373       16.0     0.0000                              ('afternoon', 'TIME')   \n",
              "2382       21.0    -0.2500  ('texas', 'GPE'), ('republicans', 'NORP'), ('r...   \n",
              "2389       12.0    -0.3400                ('uk', 'GPE'), ('zero', 'CARDINAL')   \n",
              "2393        9.0    -0.4215                               ('half', 'CARDINAL')   \n",
              "\n",
              "      named_entities_count  Truth value  \n",
              "2370                     1          1.0  \n",
              "2373                     1          1.0  \n",
              "2382                     3          1.0  \n",
              "2389                     2          1.0  \n",
              "2393                     1          1.0  "
            ]
          },
          "execution_count": 90,
          "metadata": {},
          "output_type": "execute_result"
        }
      ],
      "source": [
        "df.head()"
      ]
    },
    {
      "cell_type": "markdown",
      "metadata": {
        "id": "WWxXb-7BVV3v"
      },
      "source": [
        "Checking outliers and removing them if necessary"
      ]
    },
    {
      "cell_type": "code",
      "execution_count": 91,
      "metadata": {
        "colab": {
          "base_uri": "https://localhost:8080/",
          "height": 1000
        },
        "id": "xGz5baQ9VPmg",
        "outputId": "13a49a7d-c4e4-40c4-c136-f70f04149266"
      },
      "outputs": [
        {
          "data": {
            "text/plain": [
              "<Axes: >"
            ]
          },
          "execution_count": 91,
          "metadata": {},
          "output_type": "execute_result"
        },
        {
          "data": {
            "image/png": "[encoded data removed]",
            "text/plain": [
              "<Figure size 1200x1400 with 1 Axes>"
            ]
          },
          "metadata": {},
          "output_type": "display_data"
        }
      ],
      "source": [
        "import matplotlib.pyplot as plt\n",
        "import seaborn as sns\n",
        "fig, ax = plt.subplots(figsize=(12,14))\n",
        "sns.boxplot(df, ax = ax)"
      ]
    },
    {
      "cell_type": "code",
      "execution_count": 92,
      "metadata": {
        "colab": {
          "base_uri": "https://localhost:8080/"
        },
        "id": "NIfTothXfNlF",
        "outputId": "67604e9e-1f3d-4b1b-b193-43fd86052163"
      },
      "outputs": [
        {
          "data": {
            "text/plain": [
              "Truth value\n",
              "3.0    2405\n",
              "2.0     410\n",
              "1.0     293\n",
              "Name: count, dtype: int64"
            ]
          },
          "execution_count": 92,
          "metadata": {},
          "output_type": "execute_result"
        }
      ],
      "source": [
        "df['Truth value'].value_counts()"
      ]
    },
    {
      "cell_type": "code",
      "execution_count": 93,
      "metadata": {
        "id": "7elavFltSfll"
      },
      "outputs": [],
      "source": [
        "x = df.drop(['Truth value'], axis=1)\n",
        "y = df['Truth value']"
      ]
    },
    {
      "cell_type": "code",
      "execution_count": 94,
      "metadata": {
        "colab": {
          "base_uri": "https://localhost:8080/",
          "height": 226
        },
        "id": "iCR3ePitQ5Va",
        "outputId": "254c72ad-6b74-4fa7-d023-f96d6f2e8e7a"
      },
      "outputs": [
        {
          "data": {
            "text/html": [
              "<div>\n",
              "<style scoped>\n",
              "    .dataframe tbody tr th:only-of-type {\n",
              "        vertical-align: middle;\n",
              "    }\n",
              "\n",
              "    .dataframe tbody tr th {\n",
              "        vertical-align: top;\n",
              "    }\n",
              "\n",
              "    .dataframe thead th {\n",
              "        text-align: right;\n",
              "    }\n",
              "</style>\n",
              "<table border=\"1\" class=\"dataframe\">\n",
              "  <thead>\n",
              "    <tr style=\"text-align: right;\">\n",
              "      <th></th>\n",
              "      <th>Politician</th>\n",
              "      <th>Quote</th>\n",
              "      <th>word_count</th>\n",
              "      <th>word_length</th>\n",
              "      <th>adv_count</th>\n",
              "      <th>adj_count</th>\n",
              "      <th>noun_count</th>\n",
              "      <th>verb_count</th>\n",
              "      <th>det_count</th>\n",
              "      <th>sentiment</th>\n",
              "      <th>named_entities</th>\n",
              "      <th>named_entities_count</th>\n",
              "    </tr>\n",
              "  </thead>\n",
              "  <tbody>\n",
              "    <tr>\n",
              "      <th>2370</th>\n",
              "      <td>5</td>\n",
              "      <td>says that under his presidency  the unemployme...</td>\n",
              "      <td>20</td>\n",
              "      <td>5.050000</td>\n",
              "      <td>13.0</td>\n",
              "      <td>13.0</td>\n",
              "      <td>13.0</td>\n",
              "      <td>13.0</td>\n",
              "      <td>13.0</td>\n",
              "      <td>-0.4404</td>\n",
              "      <td>('american', 'NORP')</td>\n",
              "      <td>1</td>\n",
              "    </tr>\n",
              "    <tr>\n",
              "      <th>2373</th>\n",
              "      <td>5</td>\n",
              "      <td>in the u s    a person can be married in the m...</td>\n",
              "      <td>24</td>\n",
              "      <td>3.666667</td>\n",
              "      <td>16.0</td>\n",
              "      <td>16.0</td>\n",
              "      <td>16.0</td>\n",
              "      <td>16.0</td>\n",
              "      <td>16.0</td>\n",
              "      <td>0.0000</td>\n",
              "      <td>('afternoon', 'TIME')</td>\n",
              "      <td>1</td>\n",
              "    </tr>\n",
              "    <tr>\n",
              "      <th>2382</th>\n",
              "      <td>2</td>\n",
              "      <td>texas republicans just voted to give a republi...</td>\n",
              "      <td>24</td>\n",
              "      <td>5.416667</td>\n",
              "      <td>21.0</td>\n",
              "      <td>21.0</td>\n",
              "      <td>21.0</td>\n",
              "      <td>21.0</td>\n",
              "      <td>21.0</td>\n",
              "      <td>-0.2500</td>\n",
              "      <td>('texas', 'GPE'), ('republicans', 'NORP'), ('r...</td>\n",
              "      <td>3</td>\n",
              "    </tr>\n",
              "    <tr>\n",
              "      <th>2389</th>\n",
              "      <td>4</td>\n",
              "      <td>the uk has had zero school shootings since  it...</td>\n",
              "      <td>17</td>\n",
              "      <td>4.352941</td>\n",
              "      <td>12.0</td>\n",
              "      <td>12.0</td>\n",
              "      <td>12.0</td>\n",
              "      <td>12.0</td>\n",
              "      <td>12.0</td>\n",
              "      <td>-0.3400</td>\n",
              "      <td>('uk', 'GPE'), ('zero', 'CARDINAL')</td>\n",
              "      <td>2</td>\n",
              "    </tr>\n",
              "    <tr>\n",
              "      <th>2393</th>\n",
              "      <td>5</td>\n",
              "      <td>we cut black child poverty in half in      bec...</td>\n",
              "      <td>14</td>\n",
              "      <td>4.000000</td>\n",
              "      <td>9.0</td>\n",
              "      <td>9.0</td>\n",
              "      <td>9.0</td>\n",
              "      <td>9.0</td>\n",
              "      <td>9.0</td>\n",
              "      <td>-0.4215</td>\n",
              "      <td>('half', 'CARDINAL')</td>\n",
              "      <td>1</td>\n",
              "    </tr>\n",
              "  </tbody>\n",
              "</table>\n",
              "</div>"
            ],
            "text/plain": [
              "      Politician                                              Quote  \\\n",
              "2370           5  says that under his presidency  the unemployme...   \n",
              "2373           5  in the u s    a person can be married in the m...   \n",
              "2382           2  texas republicans just voted to give a republi...   \n",
              "2389           4  the uk has had zero school shootings since  it...   \n",
              "2393           5  we cut black child poverty in half in      bec...   \n",
              "\n",
              "      word_count  word_length  adv_count  adj_count  noun_count  verb_count  \\\n",
              "2370          20     5.050000       13.0       13.0        13.0        13.0   \n",
              "2373          24     3.666667       16.0       16.0        16.0        16.0   \n",
              "2382          24     5.416667       21.0       21.0        21.0        21.0   \n",
              "2389          17     4.352941       12.0       12.0        12.0        12.0   \n",
              "2393          14     4.000000        9.0        9.0         9.0         9.0   \n",
              "\n",
              "      det_count  sentiment                                     named_entities  \\\n",
              "2370       13.0    -0.4404                               ('american', 'NORP')   \n",
              "2373       16.0     0.0000                              ('afternoon', 'TIME')   \n",
              "2382       21.0    -0.2500  ('texas', 'GPE'), ('republicans', 'NORP'), ('r...   \n",
              "2389       12.0    -0.3400                ('uk', 'GPE'), ('zero', 'CARDINAL')   \n",
              "2393        9.0    -0.4215                               ('half', 'CARDINAL')   \n",
              "\n",
              "      named_entities_count  \n",
              "2370                     1  \n",
              "2373                     1  \n",
              "2382                     3  \n",
              "2389                     2  \n",
              "2393                     1  "
            ]
          },
          "execution_count": 94,
          "metadata": {},
          "output_type": "execute_result"
        }
      ],
      "source": [
        "x.head()"
      ]
    },
    {
      "cell_type": "code",
      "execution_count": 95,
      "metadata": {},
      "outputs": [
        {
          "data": {
            "text/plain": [
              "2370    1.0\n",
              "2373    1.0\n",
              "2382    1.0\n",
              "2389    1.0\n",
              "2393    1.0\n",
              "Name: Truth value, dtype: float64"
            ]
          },
          "execution_count": 95,
          "metadata": {},
          "output_type": "execute_result"
        }
      ],
      "source": [
        "y.head()"
      ]
    },
    {
      "cell_type": "code",
      "execution_count": 96,
      "metadata": {
        "id": "ViY8vdrhMCag"
      },
      "outputs": [],
      "source": [
        "df.to_csv(\"Data/politifact_cleaned.csv\",index=False)"
      ]
    }
  ],
  "metadata": {
    "colab": {
      "authorship_tag": "ABX9TyNq97UyFYqx10b8GUnNagsA",
      "include_colab_link": true,
      "provenance": []
    },
    "kernelspec": {
      "display_name": "Python 3",
      "name": "python3"
    },
    "language_info": {
      "codemirror_mode": {
        "name": "ipython",
        "version": 3
      },
      "file_extension": ".py",
      "mimetype": "text/x-python",
      "name": "python",
      "nbconvert_exporter": "python",
      "pygments_lexer": "ipython3",
      "version": "3.10.11"
    }
  },
  "nbformat": 4,
  "nbformat_minor": 0
}
