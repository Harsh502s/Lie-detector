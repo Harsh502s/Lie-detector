{
  "cells": [
    {
      "cell_type": "markdown",
      "metadata": {
        "colab_type": "text",
        "id": "view-in-github"
      },
      "source": [
        "<a href=\"https://colab.research.google.com/github/Anushree-B/Lie-detector/blob/main/Lie_detector_preprocessing.ipynb\" target=\"_parent\"><img src=\"https://colab.research.google.com/assets/colab-badge.svg\" alt=\"Open In Colab\"/></a>"
      ]
    },
    {
      "cell_type": "code",
      "execution_count": 1,
      "metadata": {
        "id": "SkwJHyqGRN_D"
      },
      "outputs": [],
      "source": [
        "import pandas as pd\n",
        "import numpy as np"
      ]
    },
    {
      "cell_type": "code",
      "execution_count": 2,
      "metadata": {
        "id": "Z46W-YvsRg-H"
      },
      "outputs": [],
      "source": [
        "df = pd.read_csv(\"Data/politifact_updated.csv\")"
      ]
    },
    {
      "cell_type": "code",
      "execution_count": 3,
      "metadata": {
        "colab": {
          "base_uri": "https://localhost:8080/",
          "height": 642
        },
        "id": "1I7AQ3qLRvvh",
        "outputId": "8cee4744-e63a-4376-e081-33a9183db2de"
      },
      "outputs": [
        {
          "data": {
            "text/html": [
              "<div>\n",
              "<style scoped>\n",
              "    .dataframe tbody tr th:only-of-type {\n",
              "        vertical-align: middle;\n",
              "    }\n",
              "\n",
              "    .dataframe tbody tr th {\n",
              "        vertical-align: top;\n",
              "    }\n",
              "\n",
              "    .dataframe thead th {\n",
              "        text-align: right;\n",
              "    }\n",
              "</style>\n",
              "<table border=\"1\" class=\"dataframe\">\n",
              "  <thead>\n",
              "    <tr style=\"text-align: right;\">\n",
              "      <th></th>\n",
              "      <th>Politician</th>\n",
              "      <th>Quote</th>\n",
              "      <th>Image URL</th>\n",
              "      <th>char_count</th>\n",
              "      <th>word_count</th>\n",
              "      <th>word_length</th>\n",
              "      <th>adv_count</th>\n",
              "      <th>adj_count</th>\n",
              "      <th>noun_count</th>\n",
              "      <th>verb_count</th>\n",
              "      <th>det_count</th>\n",
              "      <th>sentiment</th>\n",
              "      <th>named_entities_count</th>\n",
              "    </tr>\n",
              "  </thead>\n",
              "  <tbody>\n",
              "    <tr>\n",
              "      <th>0</th>\n",
              "      <td>Kamala Harris</td>\n",
              "      <td>black women in the u s  are  three to four tim...</td>\n",
              "      <td>true</td>\n",
              "      <td>114</td>\n",
              "      <td>22</td>\n",
              "      <td>4.136364</td>\n",
              "      <td>1.0</td>\n",
              "      <td>4.0</td>\n",
              "      <td>6.0</td>\n",
              "      <td>2.0</td>\n",
              "      <td>1.0</td>\n",
              "      <td>-0.6326</td>\n",
              "      <td>1</td>\n",
              "    </tr>\n",
              "    <tr>\n",
              "      <th>1</th>\n",
              "      <td>Byron Donalds</td>\n",
              "      <td>kamala harris  co sponsored  fully sponsored  ...</td>\n",
              "      <td>true</td>\n",
              "      <td>64</td>\n",
              "      <td>10</td>\n",
              "      <td>5.200000</td>\n",
              "      <td>1.0</td>\n",
              "      <td>2.0</td>\n",
              "      <td>1.0</td>\n",
              "      <td>4.0</td>\n",
              "      <td>1.0</td>\n",
              "      <td>0.0000</td>\n",
              "      <td>1</td>\n",
              "    </tr>\n",
              "    <tr>\n",
              "      <th>2</th>\n",
              "      <td>David Crowley</td>\n",
              "      <td>under  the biden  administration we have witne...</td>\n",
              "      <td>true</td>\n",
              "      <td>123</td>\n",
              "      <td>19</td>\n",
              "      <td>5.263158</td>\n",
              "      <td>0.0</td>\n",
              "      <td>5.0</td>\n",
              "      <td>4.0</td>\n",
              "      <td>3.0</td>\n",
              "      <td>2.0</td>\n",
              "      <td>0.3818</td>\n",
              "      <td>1</td>\n",
              "    </tr>\n",
              "    <tr>\n",
              "      <th>3</th>\n",
              "      <td>Tony Evers</td>\n",
              "      <td>wisconsin had a  record breaking year  for tou...</td>\n",
              "      <td>true</td>\n",
              "      <td>53</td>\n",
              "      <td>9</td>\n",
              "      <td>4.777778</td>\n",
              "      <td>0.0</td>\n",
              "      <td>0.0</td>\n",
              "      <td>5.0</td>\n",
              "      <td>1.0</td>\n",
              "      <td>1.0</td>\n",
              "      <td>0.0000</td>\n",
              "      <td>1</td>\n",
              "    </tr>\n",
              "    <tr>\n",
              "      <th>4</th>\n",
              "      <td>Social Media</td>\n",
              "      <td>under federal law  former president donald tru...</td>\n",
              "      <td>true</td>\n",
              "      <td>105</td>\n",
              "      <td>17</td>\n",
              "      <td>5.117647</td>\n",
              "      <td>2.0</td>\n",
              "      <td>2.0</td>\n",
              "      <td>8.0</td>\n",
              "      <td>1.0</td>\n",
              "      <td>0.0</td>\n",
              "      <td>-0.6908</td>\n",
              "      <td>1</td>\n",
              "    </tr>\n",
              "  </tbody>\n",
              "</table>\n",
              "</div>"
            ],
            "text/plain": [
              "      Politician                                              Quote Image URL  \\\n",
              "0  Kamala Harris  black women in the u s  are  three to four tim...      true   \n",
              "1  Byron Donalds  kamala harris  co sponsored  fully sponsored  ...      true   \n",
              "2  David Crowley  under  the biden  administration we have witne...      true   \n",
              "3     Tony Evers  wisconsin had a  record breaking year  for tou...      true   \n",
              "4   Social Media  under federal law  former president donald tru...      true   \n",
              "\n",
              "   char_count  word_count  word_length  adv_count  adj_count  noun_count  \\\n",
              "0         114          22     4.136364        1.0        4.0         6.0   \n",
              "1          64          10     5.200000        1.0        2.0         1.0   \n",
              "2         123          19     5.263158        0.0        5.0         4.0   \n",
              "3          53           9     4.777778        0.0        0.0         5.0   \n",
              "4         105          17     5.117647        2.0        2.0         8.0   \n",
              "\n",
              "   verb_count  det_count  sentiment  named_entities_count  \n",
              "0         2.0        1.0    -0.6326                     1  \n",
              "1         4.0        1.0     0.0000                     1  \n",
              "2         3.0        2.0     0.3818                     1  \n",
              "3         1.0        1.0     0.0000                     1  \n",
              "4         1.0        0.0    -0.6908                     1  "
            ]
          },
          "execution_count": 3,
          "metadata": {},
          "output_type": "execute_result"
        }
      ],
      "source": [
        "df.head()"
      ]
    },
    {
      "cell_type": "markdown",
      "metadata": {
        "id": "CMtjjHNRVQKM"
      },
      "source": [
        "# Data preprocessing and cleaning"
      ]
    },
    {
      "cell_type": "markdown",
      "metadata": {
        "id": "xMXU78zIVeh7"
      },
      "source": [
        "The target variable currently is Imahe URL, consisting of 6 truth values, converting that variable to Truth value having only 3 truth values"
      ]
    },
    {
      "cell_type": "code",
      "execution_count": 4,
      "metadata": {
        "id": "vMujsWepVtUw"
      },
      "outputs": [],
      "source": [
        "df['Image URL'] = df['Image URL'].map({\"TRUE\" : 0, \"mostly-true\" : 1, \"half-true\" : 2, \"barely-true\" :3, \"FALSE\": 4 , \"pants-fire\": 5})"
      ]
    },
    {
      "cell_type": "code",
      "execution_count": 5,
      "metadata": {
        "id": "W_wqqsiEOgI6"
      },
      "outputs": [],
      "source": [
        "df_new = df.copy()"
      ]
    },
    {
      "cell_type": "code",
      "execution_count": 6,
      "metadata": {
        "id": "s6nlxm_lVwLH"
      },
      "outputs": [],
      "source": [
        "mapping = {\n",
        "    0: 0,\n",
        "    1: 0,\n",
        "    2: 1,\n",
        "    3: 2,\n",
        "    4: 2,\n",
        "    5: 2\n",
        "}\n",
        "\n",
        "# Apply the mapping to the 'truth_value' column\n",
        "df['Truth value'] = df['Image URL'].map(mapping)"
      ]
    },
    {
      "cell_type": "markdown",
      "metadata": {
        "id": "0l8AWc31V36k"
      },
      "source": [
        "Dropping unnecessary columns"
      ]
    },
    {
      "cell_type": "code",
      "execution_count": 7,
      "metadata": {
        "id": "YAWSpdS3V6k3"
      },
      "outputs": [],
      "source": [
        "df = df.drop(['char_count','Image URL'], axis = 1)"
      ]
    },
    {
      "cell_type": "code",
      "execution_count": 8,
      "metadata": {
        "id": "5r7dz-AsalPU"
      },
      "outputs": [],
      "source": [
        "politicians_to_drop = ['Facebook posts','Viral image','Instagram posts','Bloggers','X posts','TikTok posts','Social Media']\n",
        "df = df[~df['Politician'].isin(politicians_to_drop)]"
      ]
    },
    {
      "cell_type": "code",
      "execution_count": 9,
      "metadata": {
        "id": "SvK9kOrJb8xT"
      },
      "outputs": [],
      "source": [
        "politicians_to_keep = df['Politician'].value_counts()[df['Politician'].value_counts() > 150].index.tolist()\n",
        "df = df[df['Politician'].isin(politicians_to_keep)]"
      ]
    },
    {
      "cell_type": "code",
      "execution_count": 10,
      "metadata": {
        "colab": {
          "base_uri": "https://localhost:8080/"
        },
        "id": "jedq3WTXarDe",
        "outputId": "1760a04f-e7f5-4b8d-a892-71b4f3c4826f"
      },
      "outputs": [
        {
          "data": {
            "text/plain": [
              "(1427, 12)"
            ]
          },
          "execution_count": 10,
          "metadata": {},
          "output_type": "execute_result"
        }
      ],
      "source": [
        "df.shape"
      ]
    },
    {
      "cell_type": "code",
      "execution_count": 11,
      "metadata": {
        "collapsed": true,
        "id": "30Lkl97kWVe5"
      },
      "outputs": [],
      "source": [
        "#df = df.drop(['Politician','Quote'], axis = 1)\n",
        "df = df.drop(['Quote'], axis = 1)"
      ]
    },
    {
      "cell_type": "code",
      "execution_count": 12,
      "metadata": {
        "id": "yRoh2Mt_gxZf"
      },
      "outputs": [],
      "source": [
        "from sklearn.preprocessing import LabelEncoder\n",
        "le = LabelEncoder()\n",
        "df['Politician'] = le.fit_transform(df['Politician'])"
      ]
    },
    {
      "cell_type": "code",
      "execution_count": 13,
      "metadata": {
        "id": "MdQM6UHIemWc"
      },
      "outputs": [],
      "source": [
        "df = df.drop(['Politician'], axis = 1)"
      ]
    },
    {
      "cell_type": "code",
      "execution_count": 14,
      "metadata": {
        "colab": {
          "base_uri": "https://localhost:8080/",
          "height": 206
        },
        "id": "Q0D6JajaQCJN",
        "outputId": "36d36b01-cfbf-4428-f9b6-5048bea4454d"
      },
      "outputs": [
        {
          "data": {
            "text/html": [
              "<div>\n",
              "<style scoped>\n",
              "    .dataframe tbody tr th:only-of-type {\n",
              "        vertical-align: middle;\n",
              "    }\n",
              "\n",
              "    .dataframe tbody tr th {\n",
              "        vertical-align: top;\n",
              "    }\n",
              "\n",
              "    .dataframe thead th {\n",
              "        text-align: right;\n",
              "    }\n",
              "</style>\n",
              "<table border=\"1\" class=\"dataframe\">\n",
              "  <thead>\n",
              "    <tr style=\"text-align: right;\">\n",
              "      <th></th>\n",
              "      <th>word_count</th>\n",
              "      <th>word_length</th>\n",
              "      <th>adv_count</th>\n",
              "      <th>adj_count</th>\n",
              "      <th>noun_count</th>\n",
              "      <th>verb_count</th>\n",
              "      <th>det_count</th>\n",
              "      <th>sentiment</th>\n",
              "      <th>named_entities_count</th>\n",
              "      <th>Truth value</th>\n",
              "    </tr>\n",
              "  </thead>\n",
              "  <tbody>\n",
              "    <tr>\n",
              "      <th>5</th>\n",
              "      <td>8</td>\n",
              "      <td>4.000000</td>\n",
              "      <td>0.0</td>\n",
              "      <td>1.0</td>\n",
              "      <td>4.0</td>\n",
              "      <td>1.0</td>\n",
              "      <td>1.0</td>\n",
              "      <td>-0.8591</td>\n",
              "      <td>0</td>\n",
              "      <td>NaN</td>\n",
              "    </tr>\n",
              "    <tr>\n",
              "      <th>18</th>\n",
              "      <td>11</td>\n",
              "      <td>5.181818</td>\n",
              "      <td>0.0</td>\n",
              "      <td>3.0</td>\n",
              "      <td>4.0</td>\n",
              "      <td>1.0</td>\n",
              "      <td>0.0</td>\n",
              "      <td>0.0000</td>\n",
              "      <td>1</td>\n",
              "      <td>NaN</td>\n",
              "    </tr>\n",
              "    <tr>\n",
              "      <th>65</th>\n",
              "      <td>18</td>\n",
              "      <td>4.500000</td>\n",
              "      <td>0.0</td>\n",
              "      <td>5.0</td>\n",
              "      <td>4.0</td>\n",
              "      <td>2.0</td>\n",
              "      <td>2.0</td>\n",
              "      <td>0.0000</td>\n",
              "      <td>4</td>\n",
              "      <td>NaN</td>\n",
              "    </tr>\n",
              "    <tr>\n",
              "      <th>75</th>\n",
              "      <td>33</td>\n",
              "      <td>4.969697</td>\n",
              "      <td>3.0</td>\n",
              "      <td>3.0</td>\n",
              "      <td>7.0</td>\n",
              "      <td>7.0</td>\n",
              "      <td>2.0</td>\n",
              "      <td>0.6808</td>\n",
              "      <td>2</td>\n",
              "      <td>NaN</td>\n",
              "    </tr>\n",
              "    <tr>\n",
              "      <th>79</th>\n",
              "      <td>29</td>\n",
              "      <td>5.862069</td>\n",
              "      <td>1.0</td>\n",
              "      <td>3.0</td>\n",
              "      <td>10.0</td>\n",
              "      <td>5.0</td>\n",
              "      <td>2.0</td>\n",
              "      <td>-0.7351</td>\n",
              "      <td>3</td>\n",
              "      <td>NaN</td>\n",
              "    </tr>\n",
              "  </tbody>\n",
              "</table>\n",
              "</div>"
            ],
            "text/plain": [
              "    word_count  word_length  adv_count  adj_count  noun_count  verb_count  \\\n",
              "5            8     4.000000        0.0        1.0         4.0         1.0   \n",
              "18          11     5.181818        0.0        3.0         4.0         1.0   \n",
              "65          18     4.500000        0.0        5.0         4.0         2.0   \n",
              "75          33     4.969697        3.0        3.0         7.0         7.0   \n",
              "79          29     5.862069        1.0        3.0        10.0         5.0   \n",
              "\n",
              "    det_count  sentiment  named_entities_count  Truth value  \n",
              "5         1.0    -0.8591                     0          NaN  \n",
              "18        0.0     0.0000                     1          NaN  \n",
              "65        2.0     0.0000                     4          NaN  \n",
              "75        2.0     0.6808                     2          NaN  \n",
              "79        2.0    -0.7351                     3          NaN  "
            ]
          },
          "execution_count": 14,
          "metadata": {},
          "output_type": "execute_result"
        }
      ],
      "source": [
        "df.head()"
      ]
    },
    {
      "cell_type": "markdown",
      "metadata": {
        "id": "WWxXb-7BVV3v"
      },
      "source": [
        "Checking outliers and removing them if necessary"
      ]
    },
    {
      "cell_type": "code",
      "execution_count": 15,
      "metadata": {
        "colab": {
          "base_uri": "https://localhost:8080/",
          "height": 1000
        },
        "id": "xGz5baQ9VPmg",
        "outputId": "13a49a7d-c4e4-40c4-c136-f70f04149266"
      },
      "outputs": [
        {
          "data": {
            "text/plain": [
              "<Axes: >"
            ]
          },
          "execution_count": 15,
          "metadata": {},
          "output_type": "execute_result"
        },
        {
          "data": {
            "image/png": "[encoded data removed]",
            "text/plain": [
              "<Figure size 1200x1400 with 1 Axes>"
            ]
          },
          "metadata": {},
          "output_type": "display_data"
        }
      ],
      "source": [
        "import matplotlib.pyplot as plt\n",
        "import seaborn as sns\n",
        "fig, ax = plt.subplots(figsize=(12,14))\n",
        "sns.boxplot(df, ax = ax)"
      ]
    },
    {
      "cell_type": "code",
      "execution_count": 16,
      "metadata": {
        "id": "yR9SwBw2WyMq"
      },
      "outputs": [],
      "source": [
        "df = df.drop(df[df['word_count']>32].index)\n",
        "df = df.drop(df[df['noun_count']>13].index)\n",
        "df = df.drop(df[df['word_length']>6].index)\n",
        "df = df.drop(df[df['verb_count']>7].index)\n",
        "df = df.drop(df[df['adv_count']>2].index)\n",
        "df = df.drop(df[df['word_length']<3].index)\n",
        "df = df.drop(df[df['adj_count']>5].index)\n",
        "df = df.drop(df[df['named_entities_count']>4].index)\n",
        "df = df.drop(df[df['det_count']>3].index)"
      ]
    },
    {
      "cell_type": "code",
      "execution_count": 17,
      "metadata": {
        "colab": {
          "base_uri": "https://localhost:8080/",
          "height": 1000
        },
        "id": "e4hLBowcXUjB",
        "outputId": "d7c629bc-0d6d-4a66-c00a-77d1383ff44e"
      },
      "outputs": [
        {
          "data": {
            "text/plain": [
              "<Axes: >"
            ]
          },
          "execution_count": 17,
          "metadata": {},
          "output_type": "execute_result"
        },
        {
          "data": {
            "image/png": "[encoded data removed]",
            "text/plain": [
              "<Figure size 1200x1400 with 1 Axes>"
            ]
          },
          "metadata": {},
          "output_type": "display_data"
        }
      ],
      "source": [
        "fig, ax = plt.subplots(figsize=(12,14))\n",
        "sns.boxplot(df, ax = ax)"
      ]
    },
    {
      "cell_type": "code",
      "execution_count": 18,
      "metadata": {
        "colab": {
          "base_uri": "https://localhost:8080/"
        },
        "id": "NIfTothXfNlF",
        "outputId": "67604e9e-1f3d-4b1b-b193-43fd86052163"
      },
      "outputs": [
        {
          "data": {
            "text/plain": [
              "Truth value\n",
              "2.0    394\n",
              "0.0    256\n",
              "1.0    243\n",
              "Name: count, dtype: int64"
            ]
          },
          "execution_count": 18,
          "metadata": {},
          "output_type": "execute_result"
        }
      ],
      "source": [
        "df['Truth value'].value_counts()"
      ]
    },
    {
      "cell_type": "code",
      "execution_count": 19,
      "metadata": {
        "id": "7elavFltSfll"
      },
      "outputs": [],
      "source": [
        "x = df.drop(['Truth value'], axis=1)\n",
        "y = df['Truth value']"
      ]
    },
    {
      "cell_type": "code",
      "execution_count": 20,
      "metadata": {
        "colab": {
          "base_uri": "https://localhost:8080/",
          "height": 226
        },
        "id": "iCR3ePitQ5Va",
        "outputId": "254c72ad-6b74-4fa7-d023-f96d6f2e8e7a"
      },
      "outputs": [
        {
          "data": {
            "text/html": [
              "<div>\n",
              "<style scoped>\n",
              "    .dataframe tbody tr th:only-of-type {\n",
              "        vertical-align: middle;\n",
              "    }\n",
              "\n",
              "    .dataframe tbody tr th {\n",
              "        vertical-align: top;\n",
              "    }\n",
              "\n",
              "    .dataframe thead th {\n",
              "        text-align: right;\n",
              "    }\n",
              "</style>\n",
              "<table border=\"1\" class=\"dataframe\">\n",
              "  <thead>\n",
              "    <tr style=\"text-align: right;\">\n",
              "      <th></th>\n",
              "      <th>word_count</th>\n",
              "      <th>word_length</th>\n",
              "      <th>adv_count</th>\n",
              "      <th>adj_count</th>\n",
              "      <th>noun_count</th>\n",
              "      <th>verb_count</th>\n",
              "      <th>det_count</th>\n",
              "      <th>sentiment</th>\n",
              "      <th>named_entities_count</th>\n",
              "    </tr>\n",
              "  </thead>\n",
              "  <tbody>\n",
              "    <tr>\n",
              "      <th>5</th>\n",
              "      <td>8</td>\n",
              "      <td>4.000000</td>\n",
              "      <td>0.0</td>\n",
              "      <td>1.0</td>\n",
              "      <td>4.0</td>\n",
              "      <td>1.0</td>\n",
              "      <td>1.0</td>\n",
              "      <td>-0.8591</td>\n",
              "      <td>0</td>\n",
              "    </tr>\n",
              "    <tr>\n",
              "      <th>18</th>\n",
              "      <td>11</td>\n",
              "      <td>5.181818</td>\n",
              "      <td>0.0</td>\n",
              "      <td>3.0</td>\n",
              "      <td>4.0</td>\n",
              "      <td>1.0</td>\n",
              "      <td>0.0</td>\n",
              "      <td>0.0000</td>\n",
              "      <td>1</td>\n",
              "    </tr>\n",
              "    <tr>\n",
              "      <th>65</th>\n",
              "      <td>18</td>\n",
              "      <td>4.500000</td>\n",
              "      <td>0.0</td>\n",
              "      <td>5.0</td>\n",
              "      <td>4.0</td>\n",
              "      <td>2.0</td>\n",
              "      <td>2.0</td>\n",
              "      <td>0.0000</td>\n",
              "      <td>4</td>\n",
              "    </tr>\n",
              "    <tr>\n",
              "      <th>79</th>\n",
              "      <td>29</td>\n",
              "      <td>5.862069</td>\n",
              "      <td>1.0</td>\n",
              "      <td>3.0</td>\n",
              "      <td>10.0</td>\n",
              "      <td>5.0</td>\n",
              "      <td>2.0</td>\n",
              "      <td>-0.7351</td>\n",
              "      <td>3</td>\n",
              "    </tr>\n",
              "    <tr>\n",
              "      <th>105</th>\n",
              "      <td>14</td>\n",
              "      <td>4.714286</td>\n",
              "      <td>0.0</td>\n",
              "      <td>1.0</td>\n",
              "      <td>5.0</td>\n",
              "      <td>3.0</td>\n",
              "      <td>1.0</td>\n",
              "      <td>0.5719</td>\n",
              "      <td>1</td>\n",
              "    </tr>\n",
              "  </tbody>\n",
              "</table>\n",
              "</div>"
            ],
            "text/plain": [
              "     word_count  word_length  adv_count  adj_count  noun_count  verb_count  \\\n",
              "5             8     4.000000        0.0        1.0         4.0         1.0   \n",
              "18           11     5.181818        0.0        3.0         4.0         1.0   \n",
              "65           18     4.500000        0.0        5.0         4.0         2.0   \n",
              "79           29     5.862069        1.0        3.0        10.0         5.0   \n",
              "105          14     4.714286        0.0        1.0         5.0         3.0   \n",
              "\n",
              "     det_count  sentiment  named_entities_count  \n",
              "5          1.0    -0.8591                     0  \n",
              "18         0.0     0.0000                     1  \n",
              "65         2.0     0.0000                     4  \n",
              "79         2.0    -0.7351                     3  \n",
              "105        1.0     0.5719                     1  "
            ]
          },
          "execution_count": 20,
          "metadata": {},
          "output_type": "execute_result"
        }
      ],
      "source": [
        "x.head()"
      ]
    },
    {
      "cell_type": "code",
      "execution_count": 21,
      "metadata": {
        "id": "ViY8vdrhMCag"
      },
      "outputs": [],
      "source": [
        "df.to_csv(\"Data/politifact_cleaned.csv\",index=False)"
      ]
    }
  ],
  "metadata": {
    "colab": {
      "authorship_tag": "ABX9TyNq97UyFYqx10b8GUnNagsA",
      "include_colab_link": true,
      "provenance": []
    },
    "kernelspec": {
      "display_name": "Python 3",
      "name": "python3"
    },
    "language_info": {
      "codemirror_mode": {
        "name": "ipython",
        "version": 3
      },
      "file_extension": ".py",
      "mimetype": "text/x-python",
      "name": "python",
      "nbconvert_exporter": "python",
      "pygments_lexer": "ipython3",
      "version": "3.10.11"
    }
  },
  "nbformat": 4,
  "nbformat_minor": 0
}
