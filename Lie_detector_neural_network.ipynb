{
  "cells": [
    {
      "cell_type": "markdown",
      "metadata": {
        "colab_type": "text",
        "id": "view-in-github"
      },
      "source": [
        "<a href=\"https://colab.research.google.com/github/Anushree-B/Lie-detector/blob/main/Lie_detector_neural_network.ipynb\" target=\"_parent\"><img src=\"https://colab.research.google.com/assets/colab-badge.svg\" alt=\"Open In Colab\"/></a>"
      ]
    },
    {
      "cell_type": "code",
      "execution_count": 9,
      "metadata": {
        "id": "SkwJHyqGRN_D"
      },
      "outputs": [],
      "source": [
        "import pandas as pd\n",
        "import numpy as np\n",
        "import tensorflow as tf\n",
        "import re\n",
        "import nltk"
      ]
    },
    {
      "cell_type": "code",
      "execution_count": 10,
      "metadata": {
        "colab": {
          "base_uri": "https://localhost:8080/",
          "height": 36
        },
        "id": "gN8rfgd3Ra5w",
        "outputId": "56e3288a-efb5-4560-f224-34e97ec06025"
      },
      "outputs": [
        {
          "data": {
            "text/plain": [
              "'2.17.0'"
            ]
          },
          "execution_count": 10,
          "metadata": {},
          "output_type": "execute_result"
        }
      ],
      "source": [
        "tf.__version__"
      ]
    },
    {
      "cell_type": "code",
      "execution_count": 11,
      "metadata": {
        "id": "Z46W-YvsRg-H"
      },
      "outputs": [],
      "source": [
        "df = pd.read_csv(\"Data/politifact_cleaned.csv\")"
      ]
    },
    {
      "cell_type": "code",
      "execution_count": 12,
      "metadata": {
        "colab": {
          "base_uri": "https://localhost:8080/",
          "height": 642
        },
        "id": "1I7AQ3qLRvvh",
        "outputId": "8cee4744-e63a-4376-e081-33a9183db2de"
      },
      "outputs": [
        {
          "data": {
            "text/html": [
              "<div>\n",
              "<style scoped>\n",
              "    .dataframe tbody tr th:only-of-type {\n",
              "        vertical-align: middle;\n",
              "    }\n",
              "\n",
              "    .dataframe tbody tr th {\n",
              "        vertical-align: top;\n",
              "    }\n",
              "\n",
              "    .dataframe thead th {\n",
              "        text-align: right;\n",
              "    }\n",
              "</style>\n",
              "<table border=\"1\" class=\"dataframe\">\n",
              "  <thead>\n",
              "    <tr style=\"text-align: right;\">\n",
              "      <th></th>\n",
              "      <th>Politician</th>\n",
              "      <th>Quote</th>\n",
              "      <th>word_count</th>\n",
              "      <th>word_length</th>\n",
              "      <th>adv_count</th>\n",
              "      <th>adj_count</th>\n",
              "      <th>noun_count</th>\n",
              "      <th>verb_count</th>\n",
              "      <th>det_count</th>\n",
              "      <th>sentiment</th>\n",
              "      <th>named_entities</th>\n",
              "      <th>named_entities_count</th>\n",
              "      <th>Truth value</th>\n",
              "    </tr>\n",
              "  </thead>\n",
              "  <tbody>\n",
              "    <tr>\n",
              "      <th>0</th>\n",
              "      <td>5</td>\n",
              "      <td>says that under his presidency  the unemployme...</td>\n",
              "      <td>20</td>\n",
              "      <td>5.050000</td>\n",
              "      <td>13.0</td>\n",
              "      <td>13.0</td>\n",
              "      <td>13.0</td>\n",
              "      <td>13.0</td>\n",
              "      <td>13.0</td>\n",
              "      <td>-0.4404</td>\n",
              "      <td>('american', 'NORP')</td>\n",
              "      <td>1</td>\n",
              "      <td>1.0</td>\n",
              "    </tr>\n",
              "    <tr>\n",
              "      <th>1</th>\n",
              "      <td>5</td>\n",
              "      <td>in the u s    a person can be married in the m...</td>\n",
              "      <td>24</td>\n",
              "      <td>3.666667</td>\n",
              "      <td>16.0</td>\n",
              "      <td>16.0</td>\n",
              "      <td>16.0</td>\n",
              "      <td>16.0</td>\n",
              "      <td>16.0</td>\n",
              "      <td>0.0000</td>\n",
              "      <td>('afternoon', 'TIME')</td>\n",
              "      <td>1</td>\n",
              "      <td>1.0</td>\n",
              "    </tr>\n",
              "    <tr>\n",
              "      <th>2</th>\n",
              "      <td>2</td>\n",
              "      <td>texas republicans just voted to give a republi...</td>\n",
              "      <td>24</td>\n",
              "      <td>5.416667</td>\n",
              "      <td>21.0</td>\n",
              "      <td>21.0</td>\n",
              "      <td>21.0</td>\n",
              "      <td>21.0</td>\n",
              "      <td>21.0</td>\n",
              "      <td>-0.2500</td>\n",
              "      <td>('texas', 'GPE'), ('republicans', 'NORP'), ('r...</td>\n",
              "      <td>3</td>\n",
              "      <td>1.0</td>\n",
              "    </tr>\n",
              "    <tr>\n",
              "      <th>3</th>\n",
              "      <td>4</td>\n",
              "      <td>the uk has had zero school shootings since  it...</td>\n",
              "      <td>17</td>\n",
              "      <td>4.352941</td>\n",
              "      <td>12.0</td>\n",
              "      <td>12.0</td>\n",
              "      <td>12.0</td>\n",
              "      <td>12.0</td>\n",
              "      <td>12.0</td>\n",
              "      <td>-0.3400</td>\n",
              "      <td>('uk', 'GPE'), ('zero', 'CARDINAL')</td>\n",
              "      <td>2</td>\n",
              "      <td>1.0</td>\n",
              "    </tr>\n",
              "    <tr>\n",
              "      <th>4</th>\n",
              "      <td>5</td>\n",
              "      <td>we cut black child poverty in half in      bec...</td>\n",
              "      <td>14</td>\n",
              "      <td>4.000000</td>\n",
              "      <td>9.0</td>\n",
              "      <td>9.0</td>\n",
              "      <td>9.0</td>\n",
              "      <td>9.0</td>\n",
              "      <td>9.0</td>\n",
              "      <td>-0.4215</td>\n",
              "      <td>('half', 'CARDINAL')</td>\n",
              "      <td>1</td>\n",
              "      <td>1.0</td>\n",
              "    </tr>\n",
              "  </tbody>\n",
              "</table>\n",
              "</div>"
            ],
            "text/plain": [
              "   Politician                                              Quote  word_count  \\\n",
              "0           5  says that under his presidency  the unemployme...          20   \n",
              "1           5  in the u s    a person can be married in the m...          24   \n",
              "2           2  texas republicans just voted to give a republi...          24   \n",
              "3           4  the uk has had zero school shootings since  it...          17   \n",
              "4           5  we cut black child poverty in half in      bec...          14   \n",
              "\n",
              "   word_length  adv_count  adj_count  noun_count  verb_count  det_count  \\\n",
              "0     5.050000       13.0       13.0        13.0        13.0       13.0   \n",
              "1     3.666667       16.0       16.0        16.0        16.0       16.0   \n",
              "2     5.416667       21.0       21.0        21.0        21.0       21.0   \n",
              "3     4.352941       12.0       12.0        12.0        12.0       12.0   \n",
              "4     4.000000        9.0        9.0         9.0         9.0        9.0   \n",
              "\n",
              "   sentiment                                     named_entities  \\\n",
              "0    -0.4404                               ('american', 'NORP')   \n",
              "1     0.0000                              ('afternoon', 'TIME')   \n",
              "2    -0.2500  ('texas', 'GPE'), ('republicans', 'NORP'), ('r...   \n",
              "3    -0.3400                ('uk', 'GPE'), ('zero', 'CARDINAL')   \n",
              "4    -0.4215                               ('half', 'CARDINAL')   \n",
              "\n",
              "   named_entities_count  Truth value  \n",
              "0                     1          1.0  \n",
              "1                     1          1.0  \n",
              "2                     3          1.0  \n",
              "3                     2          1.0  \n",
              "4                     1          1.0  "
            ]
          },
          "execution_count": 12,
          "metadata": {},
          "output_type": "execute_result"
        }
      ],
      "source": [
        "df.head()"
      ]
    },
    {
      "cell_type": "markdown",
      "metadata": {
        "id": "3NYgtIPuMqeh"
      },
      "source": [
        "# Applying neural network model"
      ]
    },
    {
      "cell_type": "code",
      "execution_count": 13,
      "metadata": {},
      "outputs": [
        {
          "name": "stdout",
          "output_type": "stream",
          "text": [
            "0\n",
            "Truth value\n",
            "3    2405\n",
            "2     410\n",
            "1     293\n",
            "Name: count, dtype: int64\n"
          ]
        }
      ],
      "source": [
        "# Drop rows with NaN values\n",
        "df['Truth value'] = df['Truth value'].astype(int)\n",
        "print(df['Truth value'].isna().sum())\n",
        "print(df['Truth value'].value_counts())"
      ]
    },
    {
      "cell_type": "code",
      "execution_count": 14,
      "metadata": {},
      "outputs": [],
      "source": [
        "X = df['Quote']\n",
        "y = df['Truth value']\n",
        "\n",
        "# Split the data into training and testing sets\n",
        "from sklearn.model_selection import train_test_split\n",
        "\n",
        "X_train, X_test, y_train, y_test = train_test_split(X, y, test_size = 0.2, random_state = 42,stratify=y)"
      ]
    },
    {
      "cell_type": "code",
      "execution_count": 15,
      "metadata": {},
      "outputs": [],
      "source": [
        "# Vectorize the text\n",
        "\n",
        "from sklearn.feature_extraction.text import TfidfVectorizer\n",
        "\n",
        "vectorizer = TfidfVectorizer()\n",
        "X_train_vectorized = vectorizer.fit_transform(X_train)\n",
        "X_test_vectorized = vectorizer.transform(X_test)"
      ]
    },
    {
      "cell_type": "code",
      "execution_count": 16,
      "metadata": {},
      "outputs": [
        {
          "name": "stdout",
          "output_type": "stream",
          "text": [
            "Model:  LogisticRegression(max_iter=1000)\n",
            "              precision    recall  f1-score   support\n",
            "\n",
            "           1       0.00      0.00      0.00        59\n",
            "           2       0.33      0.02      0.05        82\n",
            "           3       0.78      0.99      0.87       481\n",
            "\n",
            "    accuracy                           0.77       622\n",
            "   macro avg       0.37      0.34      0.30       622\n",
            "weighted avg       0.64      0.77      0.68       622\n",
            "\n",
            "\n",
            "\n",
            "\n",
            "Model:  DecisionTreeClassifier()\n",
            "              precision    recall  f1-score   support\n",
            "\n",
            "           1       0.14      0.10      0.12        59\n",
            "           2       0.15      0.12      0.14        82\n",
            "           3       0.79      0.84      0.81       481\n",
            "\n",
            "    accuracy                           0.68       622\n",
            "   macro avg       0.36      0.36      0.36       622\n",
            "weighted avg       0.64      0.68      0.66       622\n",
            "\n",
            "\n",
            "\n",
            "\n",
            "Model:  RandomForestClassifier(n_estimators=200)\n",
            "              precision    recall  f1-score   support\n",
            "\n",
            "           1       1.00      0.02      0.03        59\n",
            "           2       0.00      0.00      0.00        82\n",
            "           3       0.77      1.00      0.87       481\n",
            "\n",
            "    accuracy                           0.77       622\n",
            "   macro avg       0.59      0.34      0.30       622\n",
            "weighted avg       0.69      0.77      0.68       622\n",
            "\n",
            "\n",
            "\n",
            "\n",
            "Model:  SVC()\n",
            "              precision    recall  f1-score   support\n",
            "\n",
            "           1       0.00      0.00      0.00        59\n",
            "           2       0.00      0.00      0.00        82\n",
            "           3       0.77      1.00      0.87       481\n",
            "\n",
            "    accuracy                           0.77       622\n",
            "   macro avg       0.26      0.33      0.29       622\n",
            "weighted avg       0.60      0.77      0.67       622\n",
            "\n",
            "\n",
            "\n",
            "\n"
          ]
        },
        {
          "name": "stderr",
          "output_type": "stream",
          "text": [
            "d:\\Github\\Lie-detector\\.venv\\lib\\site-packages\\sklearn\\metrics\\_classification.py:1531: UndefinedMetricWarning: Precision is ill-defined and being set to 0.0 in labels with no predicted samples. Use `zero_division` parameter to control this behavior.\n",
            "  _warn_prf(average, modifier, f\"{metric.capitalize()} is\", len(result))\n",
            "d:\\Github\\Lie-detector\\.venv\\lib\\site-packages\\sklearn\\metrics\\_classification.py:1531: UndefinedMetricWarning: Precision is ill-defined and being set to 0.0 in labels with no predicted samples. Use `zero_division` parameter to control this behavior.\n",
            "  _warn_prf(average, modifier, f\"{metric.capitalize()} is\", len(result))\n",
            "d:\\Github\\Lie-detector\\.venv\\lib\\site-packages\\sklearn\\metrics\\_classification.py:1531: UndefinedMetricWarning: Precision is ill-defined and being set to 0.0 in labels with no predicted samples. Use `zero_division` parameter to control this behavior.\n",
            "  _warn_prf(average, modifier, f\"{metric.capitalize()} is\", len(result))\n",
            "d:\\Github\\Lie-detector\\.venv\\lib\\site-packages\\sklearn\\metrics\\_classification.py:1531: UndefinedMetricWarning: Precision is ill-defined and being set to 0.0 in labels with no predicted samples. Use `zero_division` parameter to control this behavior.\n",
            "  _warn_prf(average, modifier, f\"{metric.capitalize()} is\", len(result))\n"
          ]
        },
        {
          "name": "stdout",
          "output_type": "stream",
          "text": [
            "Model:  MLPClassifier()\n",
            "              precision    recall  f1-score   support\n",
            "\n",
            "           1       0.25      0.17      0.20        59\n",
            "           2       0.22      0.13      0.17        82\n",
            "           3       0.81      0.89      0.85       481\n",
            "\n",
            "    accuracy                           0.73       622\n",
            "   macro avg       0.43      0.40      0.41       622\n",
            "weighted avg       0.68      0.73      0.70       622\n",
            "\n",
            "\n",
            "\n",
            "\n",
            "Model:  MultinomialNB()\n",
            "              precision    recall  f1-score   support\n",
            "\n",
            "           1       0.00      0.00      0.00        59\n",
            "           2       0.00      0.00      0.00        82\n",
            "           3       0.77      1.00      0.87       481\n",
            "\n",
            "    accuracy                           0.77       622\n",
            "   macro avg       0.26      0.33      0.29       622\n",
            "weighted avg       0.60      0.77      0.67       622\n",
            "\n",
            "\n",
            "\n",
            "\n",
            "Model:  BernoulliNB()\n",
            "              precision    recall  f1-score   support\n",
            "\n",
            "           1       0.00      0.00      0.00        59\n",
            "           2       0.20      0.01      0.02        82\n",
            "           3       0.77      0.99      0.87       481\n",
            "\n",
            "    accuracy                           0.77       622\n",
            "   macro avg       0.32      0.34      0.30       622\n",
            "weighted avg       0.63      0.77      0.68       622\n",
            "\n",
            "\n",
            "\n",
            "\n",
            "[MLPClassifier(), 0.72508038585209, 0.6981319009728142, 0.72508038585209, 0.6783707915196888]\n"
          ]
        },
        {
          "name": "stderr",
          "output_type": "stream",
          "text": [
            "d:\\Github\\Lie-detector\\.venv\\lib\\site-packages\\sklearn\\metrics\\_classification.py:1531: UndefinedMetricWarning: Precision is ill-defined and being set to 0.0 in labels with no predicted samples. Use `zero_division` parameter to control this behavior.\n",
            "  _warn_prf(average, modifier, f\"{metric.capitalize()} is\", len(result))\n",
            "d:\\Github\\Lie-detector\\.venv\\lib\\site-packages\\sklearn\\metrics\\_classification.py:1531: UndefinedMetricWarning: Precision is ill-defined and being set to 0.0 in labels with no predicted samples. Use `zero_division` parameter to control this behavior.\n",
            "  _warn_prf(average, modifier, f\"{metric.capitalize()} is\", len(result))\n",
            "d:\\Github\\Lie-detector\\.venv\\lib\\site-packages\\sklearn\\metrics\\_classification.py:1531: UndefinedMetricWarning: Precision is ill-defined and being set to 0.0 in labels with no predicted samples. Use `zero_division` parameter to control this behavior.\n",
            "  _warn_prf(average, modifier, f\"{metric.capitalize()} is\", len(result))\n",
            "d:\\Github\\Lie-detector\\.venv\\lib\\site-packages\\sklearn\\metrics\\_classification.py:1531: UndefinedMetricWarning: Precision is ill-defined and being set to 0.0 in labels with no predicted samples. Use `zero_division` parameter to control this behavior.\n",
            "  _warn_prf(average, modifier, f\"{metric.capitalize()} is\", len(result))\n",
            "d:\\Github\\Lie-detector\\.venv\\lib\\site-packages\\sklearn\\metrics\\_classification.py:1531: UndefinedMetricWarning: Precision is ill-defined and being set to 0.0 in labels with no predicted samples. Use `zero_division` parameter to control this behavior.\n",
            "  _warn_prf(average, modifier, f\"{metric.capitalize()} is\", len(result))\n",
            "d:\\Github\\Lie-detector\\.venv\\lib\\site-packages\\sklearn\\metrics\\_classification.py:1531: UndefinedMetricWarning: Precision is ill-defined and being set to 0.0 in labels with no predicted samples. Use `zero_division` parameter to control this behavior.\n",
            "  _warn_prf(average, modifier, f\"{metric.capitalize()} is\", len(result))\n",
            "d:\\Github\\Lie-detector\\.venv\\lib\\site-packages\\sklearn\\metrics\\_classification.py:1531: UndefinedMetricWarning: Precision is ill-defined and being set to 0.0 in labels with no predicted samples. Use `zero_division` parameter to control this behavior.\n",
            "  _warn_prf(average, modifier, f\"{metric.capitalize()} is\", len(result))\n",
            "d:\\Github\\Lie-detector\\.venv\\lib\\site-packages\\sklearn\\metrics\\_classification.py:1531: UndefinedMetricWarning: Precision is ill-defined and being set to 0.0 in labels with no predicted samples. Use `zero_division` parameter to control this behavior.\n",
            "  _warn_prf(average, modifier, f\"{metric.capitalize()} is\", len(result))\n"
          ]
        }
      ],
      "source": [
        "\n",
        "# Import the machine learning model and train it\n",
        "\n",
        "from sklearn.linear_model import LogisticRegression\n",
        "from sklearn.tree import DecisionTreeClassifier\n",
        "from sklearn.ensemble import RandomForestClassifier\n",
        "from sklearn.svm import SVC\n",
        "from sklearn.neural_network import MLPClassifier\n",
        "from sklearn.naive_bayes import MultinomialNB, BernoulliNB, GaussianNB\n",
        "from sklearn.metrics import accuracy_score, classification_report, f1_score, recall_score, precision_score\n",
        "\n",
        "models = [LogisticRegression(max_iter=1000), DecisionTreeClassifier(), \n",
        "        RandomForestClassifier(n_estimators=200), SVC(), MLPClassifier(),\n",
        "        MultinomialNB(), BernoulliNB()]\n",
        "\n",
        "results = []\n",
        "# Logistic Regression\n",
        "for model in models:\t\t\t\t\n",
        "\t\tmodel.fit(X_train_vectorized, y_train)\n",
        "\t\ty_pred = model.predict(X_test_vectorized)\n",
        "\t\tprint(\"Model: \", model)\n",
        "\t\t# print(\"Accuracy: \", accuracy_score(y_test, y_pred))\n",
        "\t\t# print(\"F1 Score: \", f1_score(y_test, y_pred, average = 'weighted'))\n",
        "\t\t# print(\"Recall: \", recall_score(y_test, y_pred, average = 'weighted'))\n",
        "\t\t# print(\"Precision: \", precision_score(y_test, y_pred, average = 'weighted'))\n",
        "\t\tprint(classification_report(y_test, y_pred))\n",
        "\t\tresults.append([model, accuracy_score(y_test, y_pred), f1_score(y_test, y_pred, average = 'weighted'), recall_score(y_test, y_pred, average = 'weighted'), precision_score(y_test, y_pred, average = 'weighted')])\n",
        "\t\tprint(\"\\n\\n\")\n",
        "\n",
        "# Save the best model\n",
        "best_model = max(results, key = lambda x: x[2])\n",
        "print(best_model)\n"
      ]
    },
    {
      "cell_type": "markdown",
      "metadata": {
        "id": "Vage9gDOjQnh"
      },
      "source": [
        "from keras.utils import to_categorical\n",
        "# One-hot encode the integer labels\n",
        "y_one_hot = to_categorical(y, num_classes=3)"
      ]
    },
    {
      "cell_type": "code",
      "execution_count": 7,
      "metadata": {
        "colab": {
          "base_uri": "https://localhost:8080/"
        },
        "id": "D9OnSSwxkKh1",
        "outputId": "596a666b-e4e6-4ce5-be4d-6f67032f961e"
      },
      "outputs": [
        {
          "data": {
            "text/plain": [
              "(893, 9)"
            ]
          },
          "execution_count": 7,
          "metadata": {},
          "output_type": "execute_result"
        }
      ],
      "source": [
        "x = df.drop(columns = ['Truth value'])\n",
        "x.shape"
      ]
    },
    {
      "cell_type": "code",
      "execution_count": 8,
      "metadata": {
        "colab": {
          "base_uri": "https://localhost:8080/"
        },
        "id": "u8KGRHTskPuA",
        "outputId": "a63fe456-b6b9-42df-f045-ea9cde18f3bb"
      },
      "outputs": [
        {
          "data": {
            "text/plain": [
              "(893, 3)"
            ]
          },
          "execution_count": 8,
          "metadata": {},
          "output_type": "execute_result"
        }
      ],
      "source": [
        "y_one_hot.shape"
      ]
    },
    {
      "cell_type": "code",
      "execution_count": 9,
      "metadata": {
        "id": "VrIiEZ4vSonb"
      },
      "outputs": [],
      "source": [
        "from sklearn.model_selection import train_test_split\n",
        "X_train, X_test, y_train, y_test = train_test_split(x, y_one_hot, test_size = 0.15, random_state = 42)"
      ]
    },
    {
      "cell_type": "code",
      "execution_count": 10,
      "metadata": {
        "colab": {
          "base_uri": "https://localhost:8080/",
          "height": 423
        },
        "id": "447c_4pQP70A",
        "outputId": "9a636148-ce37-4c6c-b0e0-03038417c999"
      },
      "outputs": [
        {
          "data": {
            "text/html": [
              "<div>\n",
              "<style scoped>\n",
              "    .dataframe tbody tr th:only-of-type {\n",
              "        vertical-align: middle;\n",
              "    }\n",
              "\n",
              "    .dataframe tbody tr th {\n",
              "        vertical-align: top;\n",
              "    }\n",
              "\n",
              "    .dataframe thead th {\n",
              "        text-align: right;\n",
              "    }\n",
              "</style>\n",
              "<table border=\"1\" class=\"dataframe\">\n",
              "  <thead>\n",
              "    <tr style=\"text-align: right;\">\n",
              "      <th></th>\n",
              "      <th>word_count</th>\n",
              "      <th>word_length</th>\n",
              "      <th>adv_count</th>\n",
              "      <th>adj_count</th>\n",
              "      <th>noun_count</th>\n",
              "      <th>verb_count</th>\n",
              "      <th>det_count</th>\n",
              "      <th>sentiment</th>\n",
              "      <th>named_entities_count</th>\n",
              "    </tr>\n",
              "  </thead>\n",
              "  <tbody>\n",
              "    <tr>\n",
              "      <th>1046</th>\n",
              "      <td>20</td>\n",
              "      <td>4.300000</td>\n",
              "      <td>1.0</td>\n",
              "      <td>3.0</td>\n",
              "      <td>4.0</td>\n",
              "      <td>3.0</td>\n",
              "      <td>2.0</td>\n",
              "      <td>0.2960</td>\n",
              "      <td>0</td>\n",
              "    </tr>\n",
              "    <tr>\n",
              "      <th>1056</th>\n",
              "      <td>23</td>\n",
              "      <td>4.521739</td>\n",
              "      <td>1.0</td>\n",
              "      <td>1.0</td>\n",
              "      <td>8.0</td>\n",
              "      <td>5.0</td>\n",
              "      <td>3.0</td>\n",
              "      <td>-0.7239</td>\n",
              "      <td>0</td>\n",
              "    </tr>\n",
              "    <tr>\n",
              "      <th>464</th>\n",
              "      <td>17</td>\n",
              "      <td>5.588235</td>\n",
              "      <td>0.0</td>\n",
              "      <td>4.0</td>\n",
              "      <td>7.0</td>\n",
              "      <td>2.0</td>\n",
              "      <td>1.0</td>\n",
              "      <td>-0.1027</td>\n",
              "      <td>1</td>\n",
              "    </tr>\n",
              "    <tr>\n",
              "      <th>389</th>\n",
              "      <td>11</td>\n",
              "      <td>3.545455</td>\n",
              "      <td>1.0</td>\n",
              "      <td>1.0</td>\n",
              "      <td>3.0</td>\n",
              "      <td>2.0</td>\n",
              "      <td>1.0</td>\n",
              "      <td>0.0000</td>\n",
              "      <td>0</td>\n",
              "    </tr>\n",
              "    <tr>\n",
              "      <th>822</th>\n",
              "      <td>15</td>\n",
              "      <td>4.266667</td>\n",
              "      <td>1.0</td>\n",
              "      <td>1.0</td>\n",
              "      <td>5.0</td>\n",
              "      <td>5.0</td>\n",
              "      <td>0.0</td>\n",
              "      <td>0.0000</td>\n",
              "      <td>1</td>\n",
              "    </tr>\n",
              "    <tr>\n",
              "      <th>...</th>\n",
              "      <td>...</td>\n",
              "      <td>...</td>\n",
              "      <td>...</td>\n",
              "      <td>...</td>\n",
              "      <td>...</td>\n",
              "      <td>...</td>\n",
              "      <td>...</td>\n",
              "      <td>...</td>\n",
              "      <td>...</td>\n",
              "    </tr>\n",
              "    <tr>\n",
              "      <th>264</th>\n",
              "      <td>10</td>\n",
              "      <td>4.600000</td>\n",
              "      <td>0.0</td>\n",
              "      <td>2.0</td>\n",
              "      <td>5.0</td>\n",
              "      <td>1.0</td>\n",
              "      <td>0.0</td>\n",
              "      <td>-0.3818</td>\n",
              "      <td>1</td>\n",
              "    </tr>\n",
              "    <tr>\n",
              "      <th>428</th>\n",
              "      <td>12</td>\n",
              "      <td>4.083333</td>\n",
              "      <td>1.0</td>\n",
              "      <td>1.0</td>\n",
              "      <td>1.0</td>\n",
              "      <td>4.0</td>\n",
              "      <td>1.0</td>\n",
              "      <td>0.0000</td>\n",
              "      <td>0</td>\n",
              "    </tr>\n",
              "    <tr>\n",
              "      <th>1074</th>\n",
              "      <td>15</td>\n",
              "      <td>4.666667</td>\n",
              "      <td>0.0</td>\n",
              "      <td>2.0</td>\n",
              "      <td>3.0</td>\n",
              "      <td>2.0</td>\n",
              "      <td>2.0</td>\n",
              "      <td>-0.1280</td>\n",
              "      <td>1</td>\n",
              "    </tr>\n",
              "    <tr>\n",
              "      <th>593</th>\n",
              "      <td>14</td>\n",
              "      <td>4.214286</td>\n",
              "      <td>0.0</td>\n",
              "      <td>2.0</td>\n",
              "      <td>4.0</td>\n",
              "      <td>1.0</td>\n",
              "      <td>2.0</td>\n",
              "      <td>0.0000</td>\n",
              "      <td>1</td>\n",
              "    </tr>\n",
              "    <tr>\n",
              "      <th>260</th>\n",
              "      <td>11</td>\n",
              "      <td>5.181818</td>\n",
              "      <td>0.0</td>\n",
              "      <td>2.0</td>\n",
              "      <td>3.0</td>\n",
              "      <td>1.0</td>\n",
              "      <td>2.0</td>\n",
              "      <td>0.2023</td>\n",
              "      <td>1</td>\n",
              "    </tr>\n",
              "  </tbody>\n",
              "</table>\n",
              "<p>759 rows × 9 columns</p>\n",
              "</div>"
            ],
            "text/plain": [
              "      word_count  word_length  adv_count  adj_count  noun_count  verb_count  \\\n",
              "1046          20     4.300000        1.0        3.0         4.0         3.0   \n",
              "1056          23     4.521739        1.0        1.0         8.0         5.0   \n",
              "464           17     5.588235        0.0        4.0         7.0         2.0   \n",
              "389           11     3.545455        1.0        1.0         3.0         2.0   \n",
              "822           15     4.266667        1.0        1.0         5.0         5.0   \n",
              "...          ...          ...        ...        ...         ...         ...   \n",
              "264           10     4.600000        0.0        2.0         5.0         1.0   \n",
              "428           12     4.083333        1.0        1.0         1.0         4.0   \n",
              "1074          15     4.666667        0.0        2.0         3.0         2.0   \n",
              "593           14     4.214286        0.0        2.0         4.0         1.0   \n",
              "260           11     5.181818        0.0        2.0         3.0         1.0   \n",
              "\n",
              "      det_count  sentiment  named_entities_count  \n",
              "1046        2.0     0.2960                     0  \n",
              "1056        3.0    -0.7239                     0  \n",
              "464         1.0    -0.1027                     1  \n",
              "389         1.0     0.0000                     0  \n",
              "822         0.0     0.0000                     1  \n",
              "...         ...        ...                   ...  \n",
              "264         0.0    -0.3818                     1  \n",
              "428         1.0     0.0000                     0  \n",
              "1074        2.0    -0.1280                     1  \n",
              "593         2.0     0.0000                     1  \n",
              "260         2.0     0.2023                     1  \n",
              "\n",
              "[759 rows x 9 columns]"
            ]
          },
          "execution_count": 10,
          "metadata": {},
          "output_type": "execute_result"
        }
      ],
      "source": [
        "X_train"
      ]
    },
    {
      "cell_type": "code",
      "execution_count": 11,
      "metadata": {
        "colab": {
          "base_uri": "https://localhost:8080/"
        },
        "id": "TVf8Itt2ijzG",
        "outputId": "f06961ca-1ae7-4324-f768-2c9314d34e45"
      },
      "outputs": [
        {
          "data": {
            "text/plain": [
              "array([[0., 0., 1.],\n",
              "       [0., 0., 1.],\n",
              "       [0., 1., 0.],\n",
              "       ...,\n",
              "       [0., 0., 1.],\n",
              "       [0., 1., 0.],\n",
              "       [1., 0., 0.]])"
            ]
          },
          "execution_count": 11,
          "metadata": {},
          "output_type": "execute_result"
        }
      ],
      "source": [
        "y_train"
      ]
    },
    {
      "cell_type": "code",
      "execution_count": 12,
      "metadata": {
        "colab": {
          "base_uri": "https://localhost:8080/"
        },
        "id": "zNEhq6Tgi1vF",
        "outputId": "1cb1d019-12c1-471b-b257-d77be3d7eb5b"
      },
      "outputs": [
        {
          "data": {
            "text/plain": [
              "array([[0., 0., 1.],\n",
              "       [0., 1., 0.],\n",
              "       [0., 0., 1.],\n",
              "       [0., 0., 1.],\n",
              "       [1., 0., 0.],\n",
              "       [0., 1., 0.],\n",
              "       [0., 1., 0.],\n",
              "       [0., 1., 0.],\n",
              "       [1., 0., 0.],\n",
              "       [1., 0., 0.],\n",
              "       [1., 0., 0.],\n",
              "       [0., 0., 1.],\n",
              "       [0., 1., 0.],\n",
              "       [1., 0., 0.],\n",
              "       [0., 1., 0.],\n",
              "       [0., 0., 1.],\n",
              "       [0., 0., 1.],\n",
              "       [0., 0., 1.],\n",
              "       [0., 0., 1.],\n",
              "       [1., 0., 0.],\n",
              "       [0., 1., 0.],\n",
              "       [0., 1., 0.],\n",
              "       [1., 0., 0.],\n",
              "       [0., 0., 1.],\n",
              "       [0., 0., 1.],\n",
              "       [0., 0., 1.],\n",
              "       [1., 0., 0.],\n",
              "       [0., 0., 1.],\n",
              "       [1., 0., 0.],\n",
              "       [0., 1., 0.],\n",
              "       [0., 0., 1.],\n",
              "       [1., 0., 0.],\n",
              "       [0., 0., 1.],\n",
              "       [1., 0., 0.],\n",
              "       [1., 0., 0.],\n",
              "       [0., 0., 1.],\n",
              "       [1., 0., 0.],\n",
              "       [1., 0., 0.],\n",
              "       [0., 0., 1.],\n",
              "       [0., 0., 1.],\n",
              "       [1., 0., 0.],\n",
              "       [0., 1., 0.],\n",
              "       [0., 0., 1.],\n",
              "       [0., 0., 1.],\n",
              "       [0., 1., 0.],\n",
              "       [1., 0., 0.],\n",
              "       [1., 0., 0.],\n",
              "       [0., 1., 0.],\n",
              "       [1., 0., 0.],\n",
              "       [0., 0., 1.],\n",
              "       [0., 1., 0.],\n",
              "       [0., 0., 1.],\n",
              "       [0., 1., 0.],\n",
              "       [0., 0., 1.],\n",
              "       [1., 0., 0.],\n",
              "       [0., 0., 1.],\n",
              "       [1., 0., 0.],\n",
              "       [0., 1., 0.],\n",
              "       [1., 0., 0.],\n",
              "       [1., 0., 0.],\n",
              "       [0., 1., 0.],\n",
              "       [0., 1., 0.],\n",
              "       [0., 1., 0.],\n",
              "       [1., 0., 0.],\n",
              "       [1., 0., 0.],\n",
              "       [0., 0., 1.],\n",
              "       [1., 0., 0.],\n",
              "       [0., 1., 0.],\n",
              "       [0., 0., 1.],\n",
              "       [0., 0., 1.],\n",
              "       [0., 1., 0.],\n",
              "       [0., 1., 0.],\n",
              "       [0., 1., 0.],\n",
              "       [0., 0., 1.],\n",
              "       [0., 0., 1.],\n",
              "       [0., 0., 1.],\n",
              "       [0., 0., 1.],\n",
              "       [0., 0., 1.],\n",
              "       [0., 1., 0.],\n",
              "       [1., 0., 0.],\n",
              "       [0., 1., 0.],\n",
              "       [1., 0., 0.],\n",
              "       [0., 1., 0.],\n",
              "       [0., 0., 1.],\n",
              "       [1., 0., 0.],\n",
              "       [0., 0., 1.],\n",
              "       [1., 0., 0.],\n",
              "       [0., 1., 0.],\n",
              "       [0., 0., 1.],\n",
              "       [0., 1., 0.],\n",
              "       [1., 0., 0.],\n",
              "       [0., 0., 1.],\n",
              "       [0., 0., 1.],\n",
              "       [0., 1., 0.],\n",
              "       [1., 0., 0.],\n",
              "       [1., 0., 0.],\n",
              "       [0., 0., 1.],\n",
              "       [0., 1., 0.],\n",
              "       [0., 1., 0.],\n",
              "       [0., 1., 0.],\n",
              "       [0., 0., 1.],\n",
              "       [0., 0., 1.],\n",
              "       [0., 1., 0.],\n",
              "       [0., 0., 1.],\n",
              "       [0., 0., 1.],\n",
              "       [0., 1., 0.],\n",
              "       [0., 0., 1.],\n",
              "       [0., 0., 1.],\n",
              "       [0., 1., 0.],\n",
              "       [1., 0., 0.],\n",
              "       [0., 0., 1.],\n",
              "       [1., 0., 0.],\n",
              "       [0., 0., 1.],\n",
              "       [0., 0., 1.],\n",
              "       [0., 1., 0.],\n",
              "       [0., 0., 1.],\n",
              "       [1., 0., 0.],\n",
              "       [0., 1., 0.],\n",
              "       [0., 1., 0.],\n",
              "       [0., 0., 1.],\n",
              "       [0., 0., 1.],\n",
              "       [1., 0., 0.],\n",
              "       [0., 1., 0.],\n",
              "       [1., 0., 0.],\n",
              "       [0., 0., 1.],\n",
              "       [0., 0., 1.],\n",
              "       [0., 0., 1.],\n",
              "       [1., 0., 0.],\n",
              "       [0., 0., 1.],\n",
              "       [0., 0., 1.],\n",
              "       [0., 1., 0.],\n",
              "       [1., 0., 0.],\n",
              "       [0., 1., 0.],\n",
              "       [0., 0., 1.]])"
            ]
          },
          "execution_count": 12,
          "metadata": {},
          "output_type": "execute_result"
        }
      ],
      "source": [
        "y_test"
      ]
    },
    {
      "cell_type": "code",
      "execution_count": 13,
      "metadata": {
        "colab": {
          "base_uri": "https://localhost:8080/",
          "height": 206
        },
        "id": "ij7K7MVkQpTY",
        "outputId": "cf01a1bf-b7d3-4478-faf7-546128d26c7d"
      },
      "outputs": [
        {
          "data": {
            "text/html": [
              "<div>\n",
              "<style scoped>\n",
              "    .dataframe tbody tr th:only-of-type {\n",
              "        vertical-align: middle;\n",
              "    }\n",
              "\n",
              "    .dataframe tbody tr th {\n",
              "        vertical-align: top;\n",
              "    }\n",
              "\n",
              "    .dataframe thead th {\n",
              "        text-align: right;\n",
              "    }\n",
              "</style>\n",
              "<table border=\"1\" class=\"dataframe\">\n",
              "  <thead>\n",
              "    <tr style=\"text-align: right;\">\n",
              "      <th></th>\n",
              "      <th>word_count</th>\n",
              "      <th>word_length</th>\n",
              "      <th>adv_count</th>\n",
              "      <th>adj_count</th>\n",
              "      <th>noun_count</th>\n",
              "      <th>verb_count</th>\n",
              "      <th>det_count</th>\n",
              "      <th>sentiment</th>\n",
              "      <th>named_entities_count</th>\n",
              "    </tr>\n",
              "  </thead>\n",
              "  <tbody>\n",
              "    <tr>\n",
              "      <th>153</th>\n",
              "      <td>12</td>\n",
              "      <td>4.500000</td>\n",
              "      <td>1.0</td>\n",
              "      <td>0.0</td>\n",
              "      <td>3.0</td>\n",
              "      <td>5.0</td>\n",
              "      <td>0.0</td>\n",
              "      <td>0.2500</td>\n",
              "      <td>0</td>\n",
              "    </tr>\n",
              "    <tr>\n",
              "      <th>154</th>\n",
              "      <td>11</td>\n",
              "      <td>5.454545</td>\n",
              "      <td>1.0</td>\n",
              "      <td>2.0</td>\n",
              "      <td>4.0</td>\n",
              "      <td>1.0</td>\n",
              "      <td>0.0</td>\n",
              "      <td>-0.7184</td>\n",
              "      <td>2</td>\n",
              "    </tr>\n",
              "    <tr>\n",
              "      <th>155</th>\n",
              "      <td>16</td>\n",
              "      <td>4.687500</td>\n",
              "      <td>0.0</td>\n",
              "      <td>0.0</td>\n",
              "      <td>7.0</td>\n",
              "      <td>5.0</td>\n",
              "      <td>0.0</td>\n",
              "      <td>-0.6124</td>\n",
              "      <td>2</td>\n",
              "    </tr>\n",
              "    <tr>\n",
              "      <th>156</th>\n",
              "      <td>10</td>\n",
              "      <td>4.700000</td>\n",
              "      <td>1.0</td>\n",
              "      <td>2.0</td>\n",
              "      <td>3.0</td>\n",
              "      <td>2.0</td>\n",
              "      <td>0.0</td>\n",
              "      <td>0.0000</td>\n",
              "      <td>0</td>\n",
              "    </tr>\n",
              "    <tr>\n",
              "      <th>157</th>\n",
              "      <td>23</td>\n",
              "      <td>4.478261</td>\n",
              "      <td>0.0</td>\n",
              "      <td>0.0</td>\n",
              "      <td>7.0</td>\n",
              "      <td>7.0</td>\n",
              "      <td>1.0</td>\n",
              "      <td>0.0000</td>\n",
              "      <td>3</td>\n",
              "    </tr>\n",
              "  </tbody>\n",
              "</table>\n",
              "</div>"
            ],
            "text/plain": [
              "     word_count  word_length  adv_count  adj_count  noun_count  verb_count  \\\n",
              "153          12     4.500000        1.0        0.0         3.0         5.0   \n",
              "154          11     5.454545        1.0        2.0         4.0         1.0   \n",
              "155          16     4.687500        0.0        0.0         7.0         5.0   \n",
              "156          10     4.700000        1.0        2.0         3.0         2.0   \n",
              "157          23     4.478261        0.0        0.0         7.0         7.0   \n",
              "\n",
              "     det_count  sentiment  named_entities_count  \n",
              "153        0.0     0.2500                     0  \n",
              "154        0.0    -0.7184                     2  \n",
              "155        0.0    -0.6124                     2  \n",
              "156        0.0     0.0000                     0  \n",
              "157        1.0     0.0000                     3  "
            ]
          },
          "execution_count": 13,
          "metadata": {},
          "output_type": "execute_result"
        }
      ],
      "source": [
        "x.head()"
      ]
    },
    {
      "cell_type": "code",
      "execution_count": 14,
      "metadata": {
        "id": "JS9hyfYqT87L"
      },
      "outputs": [],
      "source": [
        "from sklearn.preprocessing import StandardScaler\n",
        "sc = StandardScaler()\n",
        "X_train = sc.fit_transform(X_train)\n",
        "X_test = sc.transform(X_test)"
      ]
    },
    {
      "cell_type": "code",
      "execution_count": 15,
      "metadata": {
        "id": "DVrdGFBhT_vt"
      },
      "outputs": [
        {
          "name": "stderr",
          "output_type": "stream",
          "text": [
            "d:\\Github\\Lie-detector\\.venv\\lib\\site-packages\\keras\\src\\layers\\core\\dense.py:87: UserWarning: Do not pass an `input_shape`/`input_dim` argument to a layer. When using Sequential models, prefer using an `Input(shape)` object as the first layer in the model instead.\n",
            "  super().__init__(activity_regularizer=activity_regularizer, **kwargs)\n"
          ]
        }
      ],
      "source": [
        "# Building ann\n",
        "#inititalising the ann\n",
        "ann = tf.keras.models.Sequential()\n",
        "# adding the input layer\n",
        "\n",
        "ann.add(tf.keras.layers.Dense(units=9,input_shape = (9,), activation='relu'))\n",
        "# adding the 1st hidden layer\n",
        "\n",
        "ann.add(tf.keras.layers.Dense(units=6, activation='relu'))\n",
        "# adding the seconf hidden layer\n",
        "\n",
        "ann.add(tf.keras.layers.Dense(units=6, activation='relu'))\n",
        "# adding the output layer\n",
        "\n",
        "ann.add(tf.keras.layers.Dense(units=3, activation='softmax'))\n",
        "# training the ann\n",
        "\n",
        "# compiling the ann\n",
        "\n",
        "ann.compile(optimizer = 'adam' , loss = 'categorical_crossentropy', metrics = ['accuracy']) # adam = commmon, stochastic gradient descrnt"
      ]
    },
    {
      "cell_type": "code",
      "execution_count": 16,
      "metadata": {
        "colab": {
          "base_uri": "https://localhost:8080/"
        },
        "id": "E07MywLrbVOQ",
        "outputId": "5b462463-a3d8-454b-994d-1c14d3ae8187"
      },
      "outputs": [
        {
          "name": "stdout",
          "output_type": "stream",
          "text": [
            "Epoch 1/100\n",
            "\u001b[1m86/86\u001b[0m \u001b[32m━━━━━━━━━━━━━━━━━━━━\u001b[0m\u001b[37m\u001b[0m \u001b[1m2s\u001b[0m 4ms/step - accuracy: 0.3517 - loss: 1.1046 - val_accuracy: 0.3421 - val_loss: 1.1392\n",
            "Epoch 2/100\n",
            "\u001b[1m86/86\u001b[0m \u001b[32m━━━━━━━━━━━━━━━━━━━━\u001b[0m\u001b[37m\u001b[0m \u001b[1m0s\u001b[0m 2ms/step - accuracy: 0.4105 - loss: 1.1002 - val_accuracy: 0.3553 - val_loss: 1.1294\n",
            "Epoch 3/100\n",
            "\u001b[1m86/86\u001b[0m \u001b[32m━━━━━━━━━━━━━━━━━━━━\u001b[0m\u001b[37m\u001b[0m \u001b[1m0s\u001b[0m 2ms/step - accuracy: 0.4282 - loss: 1.0762 - val_accuracy: 0.3553 - val_loss: 1.1305\n",
            "Epoch 4/100\n",
            "\u001b[1m86/86\u001b[0m \u001b[32m━━━━━━━━━━━━━━━━━━━━\u001b[0m\u001b[37m\u001b[0m \u001b[1m0s\u001b[0m 3ms/step - accuracy: 0.4354 - loss: 1.0731 - val_accuracy: 0.3684 - val_loss: 1.1261\n",
            "Epoch 5/100\n",
            "\u001b[1m86/86\u001b[0m \u001b[32m━━━━━━━━━━━━━━━━━━━━\u001b[0m\u001b[37m\u001b[0m \u001b[1m1s\u001b[0m 2ms/step - accuracy: 0.4551 - loss: 1.0645 - val_accuracy: 0.3684 - val_loss: 1.1240\n",
            "Epoch 6/100\n",
            "\u001b[1m86/86\u001b[0m \u001b[32m━━━━━━━━━━━━━━━━━━━━\u001b[0m\u001b[37m\u001b[0m \u001b[1m0s\u001b[0m 2ms/step - accuracy: 0.4931 - loss: 1.0491 - val_accuracy: 0.3684 - val_loss: 1.1247\n",
            "Epoch 7/100\n",
            "\u001b[1m86/86\u001b[0m \u001b[32m━━━━━━━━━━━━━━━━━━━━\u001b[0m\u001b[37m\u001b[0m \u001b[1m0s\u001b[0m 2ms/step - accuracy: 0.4939 - loss: 1.0424 - val_accuracy: 0.3684 - val_loss: 1.1247\n",
            "Epoch 8/100\n",
            "\u001b[1m86/86\u001b[0m \u001b[32m━━━━━━━━━━━━━━━━━━━━\u001b[0m\u001b[37m\u001b[0m \u001b[1m0s\u001b[0m 2ms/step - accuracy: 0.4754 - loss: 1.0437 - val_accuracy: 0.3684 - val_loss: 1.1267\n",
            "Epoch 9/100\n",
            "\u001b[1m86/86\u001b[0m \u001b[32m━━━━━━━━━━━━━━━━━━━━\u001b[0m\u001b[37m\u001b[0m \u001b[1m0s\u001b[0m 2ms/step - accuracy: 0.4678 - loss: 1.0510 - val_accuracy: 0.3684 - val_loss: 1.1281\n"
          ]
        },
        {
          "data": {
            "text/plain": [
              "<keras.src.callbacks.history.History at 0x1f2068cded0>"
            ]
          },
          "execution_count": 16,
          "metadata": {},
          "output_type": "execute_result"
        }
      ],
      "source": [
        "# train ann on the training set\n",
        "\n",
        "ann.fit(X_train, y_train, batch_size = 8, epochs = 100, validation_split=0.1, callbacks=[tf.keras.callbacks.EarlyStopping(patience=4)])"
      ]
    },
    {
      "cell_type": "code",
      "execution_count": 17,
      "metadata": {
        "colab": {
          "base_uri": "https://localhost:8080/"
        },
        "id": "p51rWU-AdYo8",
        "outputId": "99ac89e6-f717-47b1-bdcb-6c8332666aa6"
      },
      "outputs": [
        {
          "name": "stdout",
          "output_type": "stream",
          "text": [
            "\u001b[1m5/5\u001b[0m \u001b[32m━━━━━━━━━━━━━━━━━━━━\u001b[0m\u001b[37m\u001b[0m \u001b[1m0s\u001b[0m 13ms/step\n",
            "Accuracy score: 0.41044776119402987\n"
          ]
        }
      ],
      "source": [
        "from sklearn.metrics import accuracy_score\n",
        "y_pred = ann.predict(X_test)\n",
        "y_pred_classes = np.argmax(y_pred, axis=1)\n",
        "y_true = np.argmax(y_test, axis=1)\n",
        "accuracy_score = accuracy_score(y_true, y_pred_classes)\n",
        "print(\"Accuracy score:\", accuracy_score)\n"
      ]
    },
    {
      "cell_type": "markdown",
      "metadata": {
        "id": "WS_zfbP-190e"
      },
      "source": [
        "# Predicting result with new quote"
      ]
    },
    {
      "cell_type": "code",
      "execution_count": 18,
      "metadata": {
        "colab": {
          "base_uri": "https://localhost:8080/"
        },
        "id": "TFqtV4DGivl1",
        "outputId": "c824c168-6a4e-4017-c2f0-da59f574ad5c"
      },
      "outputs": [
        {
          "name": "stderr",
          "output_type": "stream",
          "text": [
            "[nltk_data] Downloading package averaged_perceptron_tagger to\n",
            "[nltk_data]     C:\\Users\\harsh\\AppData\\Roaming\\nltk_data...\n",
            "[nltk_data]   Package averaged_perceptron_tagger is already up-to-\n",
            "[nltk_data]       date!\n",
            "[nltk_data] Downloading package wordnet to\n",
            "[nltk_data]     C:\\Users\\harsh\\AppData\\Roaming\\nltk_data...\n",
            "[nltk_data]   Package wordnet is already up-to-date!\n"
          ]
        },
        {
          "data": {
            "text/plain": [
              "True"
            ]
          },
          "execution_count": 18,
          "metadata": {},
          "output_type": "execute_result"
        }
      ],
      "source": [
        "nltk.download('averaged_perceptron_tagger') #used for tagging words with their parts of speech (POS)\n",
        "nltk.download('wordnet')"
      ]
    },
    {
      "cell_type": "code",
      "execution_count": 19,
      "metadata": {
        "colab": {
          "base_uri": "https://localhost:8080/"
        },
        "id": "5g_Mb0zMyVn3",
        "outputId": "a02aa80f-a40b-412f-9a90-e4b115bcd267"
      },
      "outputs": [
        {
          "name": "stderr",
          "output_type": "stream",
          "text": [
            "[nltk_data] Downloading package vader_lexicon to\n",
            "[nltk_data]     C:\\Users\\harsh\\AppData\\Roaming\\nltk_data...\n",
            "[nltk_data]   Package vader_lexicon is already up-to-date!\n"
          ]
        }
      ],
      "source": [
        "from nltk.sentiment.vader import SentimentIntensityAnalyzer\n",
        "\n",
        "# Download VADER lexicon (if not already downloaded)\n",
        "nltk.download('vader_lexicon')\n",
        "import spacy\n",
        "nlp = spacy.load(\"en_core_web_sm\")"
      ]
    },
    {
      "cell_type": "code",
      "execution_count": 20,
      "metadata": {
        "id": "HAAzHE6LyP_X"
      },
      "outputs": [],
      "source": [
        "def sentiment_score(text):\n",
        "  # Create a Vader SentimentIntensityAnalyzer object\n",
        "  analyzer = SentimentIntensityAnalyzer()\n",
        "  # Get sentiment scores (compound score for overall sentiment)\n",
        "  sentiment = analyzer.polarity_scores(text)\n",
        "  return sentiment[\"compound\"]\n",
        "\n",
        "def named_entities(text):\n",
        "  # Create a spaCy document\n",
        "  doc = nlp(text)\n",
        "  # Extract named entities and their labels (PERSON, ORG, etc.)\n",
        "  entities = [(entity.text, entity.label_) for entity in doc.ents]\n",
        "  return entities"
      ]
    },
    {
      "cell_type": "code",
      "execution_count": 21,
      "metadata": {
        "id": "mhiS2055itqX"
      },
      "outputs": [],
      "source": [
        "def preprocess_quote(quote):\n",
        "  adv_count = 0\n",
        "  adj_count = 0\n",
        "  noun_count = 0\n",
        "  verb_count = 0\n",
        "  det_count = 0\n",
        "  words = quote.split()\n",
        "  tagged_words = nltk.pos_tag(words)\n",
        "  for word, tag in tagged_words:\n",
        "    if tag.startswith('RB'):\n",
        "      adv_count += 1\n",
        "    elif tag.startswith('JJ'):\n",
        "      adj_count += 1\n",
        "    elif tag.startswith('NN'):\n",
        "      noun_count += 1\n",
        "    elif tag.startswith('VB'):\n",
        "      verb_count += 1\n",
        "    elif tag.startswith('DT'):\n",
        "      det_count += 1\n",
        "  word_count = len(quote.split())\n",
        "  word_length = sum(len(word) for word in quote.split())\n",
        "  sentiment = sentiment_score(quote)\n",
        "  named_entitity = named_entities(quote)\n",
        "  named_entities_count = len(named_entitity)\n",
        "\n",
        "  return word_count,word_length,adv_count,adj_count,noun_count,verb_count,det_count,sentiment, named_entities_count"
      ]
    },
    {
      "cell_type": "code",
      "execution_count": 22,
      "metadata": {
        "id": "OTA_vw-Xw0cP"
      },
      "outputs": [],
      "source": [
        "word_count,word_length,adv_count,adj_count,noun_count,verb_count,det_count,sentiment, named_entities_count = preprocess_quote(\"Hello i am anushree\")"
      ]
    },
    {
      "cell_type": "code",
      "execution_count": 23,
      "metadata": {
        "colab": {
          "base_uri": "https://localhost:8080/"
        },
        "id": "aliqu6J5xI4g",
        "outputId": "2c76c93e-e7a6-4fb1-a0bd-832a66b7b3d2"
      },
      "outputs": [
        {
          "data": {
            "text/plain": [
              "2"
            ]
          },
          "execution_count": 23,
          "metadata": {},
          "output_type": "execute_result"
        }
      ],
      "source": [
        "noun_count"
      ]
    },
    {
      "cell_type": "code",
      "execution_count": 43,
      "metadata": {
        "id": "HxpN4f0F0HaV"
      },
      "outputs": [
        {
          "data": {
            "text/html": [
              "<div>\n",
              "<style scoped>\n",
              "    .dataframe tbody tr th:only-of-type {\n",
              "        vertical-align: middle;\n",
              "    }\n",
              "\n",
              "    .dataframe tbody tr th {\n",
              "        vertical-align: top;\n",
              "    }\n",
              "\n",
              "    .dataframe thead th {\n",
              "        text-align: right;\n",
              "    }\n",
              "</style>\n",
              "<table border=\"1\" class=\"dataframe\">\n",
              "  <thead>\n",
              "    <tr style=\"text-align: right;\">\n",
              "      <th></th>\n",
              "      <th>word_count</th>\n",
              "      <th>word_length</th>\n",
              "      <th>adv_count</th>\n",
              "      <th>adj_count</th>\n",
              "      <th>noun_count</th>\n",
              "      <th>verb_count</th>\n",
              "      <th>det_count</th>\n",
              "      <th>sentiment</th>\n",
              "      <th>named_entities_count</th>\n",
              "    </tr>\n",
              "  </thead>\n",
              "  <tbody>\n",
              "    <tr>\n",
              "      <th>0</th>\n",
              "      <td>13.0</td>\n",
              "      <td>45.0</td>\n",
              "      <td>0.0</td>\n",
              "      <td>1.0</td>\n",
              "      <td>4.0</td>\n",
              "      <td>3.0</td>\n",
              "      <td>4.0</td>\n",
              "      <td>0.4404</td>\n",
              "      <td>0.0</td>\n",
              "    </tr>\n",
              "  </tbody>\n",
              "</table>\n",
              "</div>"
            ],
            "text/plain": [
              "   word_count  word_length  adv_count  adj_count  noun_count  verb_count  \\\n",
              "0        13.0         45.0        0.0        1.0         4.0         3.0   \n",
              "\n",
              "   det_count  sentiment  named_entities_count  \n",
              "0        4.0     0.4404                   0.0  "
            ]
          },
          "execution_count": 43,
          "metadata": {},
          "output_type": "execute_result"
        }
      ],
      "source": [
        "new_df = pd.DataFrame(preprocess_quote(\"This is a project has a good accuracy and a bear made it.\")).transpose()\n",
        "new_df.columns = ['word_count','word_length','adv_count','adj_count','noun_count','verb_count','det_count','sentiment','named_entities_count']\n",
        "new_df.head()"
      ]
    },
    {
      "cell_type": "code",
      "execution_count": 44,
      "metadata": {},
      "outputs": [],
      "source": [
        "# Saving the pickle file for the scaler\n",
        "import pickle\n",
        "with open('scaler.pkl', 'wb') as file:\n",
        "    pickle.dump(sc, file)"
      ]
    },
    {
      "cell_type": "code",
      "execution_count": 45,
      "metadata": {
        "colab": {
          "base_uri": "https://localhost:8080/",
          "height": 81
        },
        "id": "-S9ee3TC0HOA",
        "outputId": "d95b48f5-9168-4abe-9f77-d4c0a3e57333"
      },
      "outputs": [
        {
          "data": {
            "text/plain": [
              "array([[-4.92575394e-01,  6.90387827e+01, -8.49699119e-01,\n",
              "        -5.50795497e-01, -5.03405597e-01, -3.15970413e-02,\n",
              "         2.77748773e+00,  1.10917783e+00, -1.25509348e+00]])"
            ]
          },
          "execution_count": 45,
          "metadata": {},
          "output_type": "execute_result"
        }
      ],
      "source": [
        "check = new_df\n",
        "# Applying the scaling to the new data\n",
        "check = sc.transform(check)\n",
        "check"
      ]
    },
    {
      "cell_type": "code",
      "execution_count": 46,
      "metadata": {
        "colab": {
          "base_uri": "https://localhost:8080/"
        },
        "id": "ZJV8vFNi0l5s",
        "outputId": "a946d7b9-38ef-46d1-f03f-a63dd781a377"
      },
      "outputs": [
        {
          "name": "stdout",
          "output_type": "stream",
          "text": [
            "\u001b[1m1/1\u001b[0m \u001b[32m━━━━━━━━━━━━━━━━━━━━\u001b[0m\u001b[37m\u001b[0m \u001b[1m0s\u001b[0m 28ms/step\n",
            "The new quote is likely to be false or pants-on-fire.\n"
          ]
        }
      ],
      "source": [
        "# Make predictions\n",
        "new_quote_prediction = ann.predict(new_df)\n",
        "new_quote_prediction_class = np.argmax(new_quote_prediction)\n",
        "\n",
        "# Print the prediction\n",
        "if new_quote_prediction_class == 0:\n",
        "  print(\"The new quote is likely to be true.\")\n",
        "elif new_quote_prediction_class == 1:\n",
        "  print(\"The new quote is likely to be mostly true or half-true.\")\n",
        "else:\n",
        "  print(\"The new quote is likely to be false or pants-on-fire.\")\n"
      ]
    },
    {
      "cell_type": "code",
      "execution_count": null,
      "metadata": {},
      "outputs": [],
      "source": []
    }
  ],
  "metadata": {
    "colab": {
      "authorship_tag": "ABX9TyM2DkddZF1hpyIbR5LtiLHb",
      "include_colab_link": true,
      "provenance": []
    },
    "kernelspec": {
      "display_name": "Python 3",
      "name": "python3"
    },
    "language_info": {
      "codemirror_mode": {
        "name": "ipython",
        "version": 3
      },
      "file_extension": ".py",
      "mimetype": "text/x-python",
      "name": "python",
      "nbconvert_exporter": "python",
      "pygments_lexer": "ipython3",
      "version": "3.10.11"
    }
  },
  "nbformat": 4,
  "nbformat_minor": 0
}
